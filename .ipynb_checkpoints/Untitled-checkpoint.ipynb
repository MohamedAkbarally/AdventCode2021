{
 "cells": [
  {
   "cell_type": "code",
   "execution_count": 106,
   "metadata": {},
   "outputs": [],
   "source": [
    "import numpy as np"
   ]
  },
  {
   "cell_type": "code",
   "execution_count": 107,
   "metadata": {},
   "outputs": [],
   "source": [
    "with open('./data/day_5/input.txt') as f:\n",
    "    data = f.read().splitlines()\n",
    "    \n",
    "starts = [point.split(\" -> \")[0].split(\",\") for point in data]\n",
    "ends = [point.split(\" -> \")[1].split(\",\") for point in data]\n",
    "\n",
    "from collections import defaultdict\n",
    "\n",
    "def def_value():\n",
    "    return 0\n",
    "\n",
    "new_dict = defaultdict(def_value)\n"
   ]
  },
  {
   "cell_type": "code",
   "execution_count": 104,
   "metadata": {},
   "outputs": [],
   "source": [
    "for start,end in zip(starts,ends):\n",
    "    x_trans = (int(start[0]),int(end[0]))\n",
    "    y_trans = (int(start[1]),int(end[1]))\n",
    "    \n",
    "    delta_x  = x_trans[0] - x_trans[1]\n",
    "    delta_y  = y_trans[0] - y_trans[1]\n",
    "    \n",
    "    if (delta_x == 0 and delta_y == 0):\n",
    "        temp = list(range(int(min(h_v)),int(max(h_v))+1))\n",
    "        temp2 = list(range(int(min(v_v)),int(max(v_v))+1))\n",
    "        if (h_v[0] > h_v[1]):\n",
    "            temp.reverse()\n",
    "        if (v_v[0] > v_v[1]):\n",
    "            temp2.reverse()   \n",
    "        for item,item2 in zip(temp,temp2):\n",
    "            new_dict[str(item)+\",\"+str(item2)] += 1\n",
    "        continue\n",
    "        \n",
    "    if h_v[0] != h_v[1]:\n",
    "        temp = list(range(int(min(h_v)),int(max(h_v))+1))\n",
    "        for item in temp:\n",
    "            new_dict[str(item)+\",\"+str(v_v[0])] += 1\n",
    "    if v_v[0] != v_v[1]:\n",
    "        temp = list(range(int(min(v_v)),int(max(v_v))+1))\n",
    "        for item in temp:\n",
    "            new_dict[str(h_v[0])+\",\"+str(item)] += 1\n",
    "\n"
   ]
  },
  {
   "cell_type": "code",
   "execution_count": 105,
   "metadata": {},
   "outputs": [
    {
     "data": {
      "text/plain": [
       "22088"
      ]
     },
     "execution_count": 105,
     "metadata": {},
     "output_type": "execute_result"
    }
   ],
   "source": [
    "len([val for val in new_dict.values() if val > 1])"
   ]
  }
 ],
 "metadata": {
  "kernelspec": {
   "display_name": "Python 3",
   "language": "python",
   "name": "python3"
  },
  "language_info": {
   "codemirror_mode": {
    "name": "ipython",
    "version": 3
   },
   "file_extension": ".py",
   "mimetype": "text/x-python",
   "name": "python",
   "nbconvert_exporter": "python",
   "pygments_lexer": "ipython3",
   "version": "3.8.3"
  }
 },
 "nbformat": 4,
 "nbformat_minor": 4
}
