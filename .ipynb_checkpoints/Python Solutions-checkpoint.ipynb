{
 "cells": [
  {
   "cell_type": "markdown",
   "metadata": {},
   "source": [
    "*Helper functions*"
   ]
  },
  {
   "cell_type": "code",
   "execution_count": 63,
   "metadata": {},
   "outputs": [],
   "source": [
    "import numpy as np\n",
    "from collections import defaultdict\n",
    "from itertools import permutations\n",
    "from itertools import combinations\n",
    "import math\n",
    "\n",
    "def list_to_int(str_list):\n",
    "    return [int(x) for x in str_list]\n",
    "\n",
    "def def_value():\n",
    "    return 0\n",
    "\n",
    "def read_input(path):\n",
    "    with open(path) as f:\n",
    "        return(f.read().split(\"\\n\")[:-1])"
   ]
  },
  {
   "cell_type": "markdown",
   "metadata": {},
   "source": [
    "## Day 1"
   ]
  },
  {
   "cell_type": "markdown",
   "metadata": {},
   "source": [
    "#### Puzzle 1"
   ]
  },
  {
   "cell_type": "code",
   "execution_count": 5,
   "metadata": {},
   "outputs": [
    {
     "data": {
      "text/plain": [
       "1448"
      ]
     },
     "execution_count": 5,
     "metadata": {},
     "output_type": "execute_result"
    }
   ],
   "source": [
    "input_day_1 = list_to_int(read_input('./data/day_1/input.txt'))\n",
    "\n",
    "def find_times_increasing(data):\n",
    "    return sum([pair[0]-pair[1]>0 for pair in zip(data[1:],data[:-1])])\n",
    "\n",
    "find_times_increasing(input_day_1)"
   ]
  },
  {
   "cell_type": "markdown",
   "metadata": {},
   "source": [
    "#### Puzzle 2"
   ]
  },
  {
   "cell_type": "code",
   "execution_count": 8,
   "metadata": {},
   "outputs": [
    {
     "data": {
      "text/plain": [
       "1471"
      ]
     },
     "execution_count": 8,
     "metadata": {},
     "output_type": "execute_result"
    }
   ],
   "source": [
    "def find_times_window_increasing(data):\n",
    "    window_list = list(zip(input_day_1[:-2],input_day_1[1:-1],input_day_1[2:]))\n",
    "    return find_times_increasing([sum(window) for window in window_list])\n",
    "\n",
    "find_times_window_increasing(input_day_1)"
   ]
  },
  {
   "cell_type": "markdown",
   "metadata": {},
   "source": [
    "## Day 2"
   ]
  },
  {
   "cell_type": "markdown",
   "metadata": {},
   "source": [
    "#### Puzzle 1"
   ]
  },
  {
   "cell_type": "code",
   "execution_count": 9,
   "metadata": {},
   "outputs": [
    {
     "data": {
      "text/plain": [
       "2102357"
      ]
     },
     "execution_count": 9,
     "metadata": {},
     "output_type": "execute_result"
    }
   ],
   "source": [
    "input_day_2 = read_input('./data/day_2/input.txt')\n",
    "\n",
    "def directionTotal(direction,data):\n",
    "    return sum([int(x[-1]) for x in data if x.startswith(direction)])\n",
    "\n",
    "directionTotal(\"forward\",input_day_2) * (directionTotal(\"down\",input_day_2) - directionTotal(\"up\",input_day_2))"
   ]
  },
  {
   "cell_type": "markdown",
   "metadata": {},
   "source": [
    "#### Puzzle 2"
   ]
  },
  {
   "cell_type": "code",
   "execution_count": 10,
   "metadata": {},
   "outputs": [
    {
     "data": {
      "text/plain": [
       "2101031224"
      ]
     },
     "execution_count": 10,
     "metadata": {},
     "output_type": "execute_result"
    }
   ],
   "source": [
    "enumerated_forwards = [(idx,x) for idx,x in list(enumerate(input_day_2)) if x.startswith(\"forward\")]\n",
    "\n",
    "def get_direction_value(direction):\n",
    "    return int(direction[-1])\n",
    "\n",
    "def enumarate_list(data):\n",
    "    return list(enumerate(data))\n",
    "\n",
    "def isForward(direction_t):\n",
    "    return direction_t[1].startswith(\"forward\")\n",
    "\n",
    "enumerated_forwards = list(filter(isForward,enumarate_list(input_day_2)))\n",
    "\n",
    "def change_in_depth(data,idx,direction):\n",
    "     return get_direction_value(direction) * (directionTotal(\"down\",data[:idx]) - directionTotal(\"up\",data[:idx]))\n",
    "    \n",
    "depth = sum([change_in_depth(input_day_2,idx,x) for idx,x in enumerated_forwards])\n",
    "horizontal_position = directionTotal(\"forward\",input_day_2)\n",
    "\n",
    "horizontal_position*depth"
   ]
  },
  {
   "cell_type": "markdown",
   "metadata": {},
   "source": [
    "## Day 3"
   ]
  },
  {
   "cell_type": "markdown",
   "metadata": {},
   "source": [
    "#### Puzzle 1"
   ]
  },
  {
   "cell_type": "code",
   "execution_count": 11,
   "metadata": {},
   "outputs": [
    {
     "data": {
      "text/plain": [
       "3148794"
      ]
     },
     "execution_count": 11,
     "metadata": {},
     "output_type": "execute_result"
    }
   ],
   "source": [
    "input_day_3 = read_input('./data/day_3/input.txt')\n",
    "\n",
    "def find_most_freq(digit,data):\n",
    "    return str(int(sum([int(x[digit]) for x in data])/len(data)>=0.5))\n",
    "\n",
    "def bin_to_dec(binary):\n",
    "    return int(binary,2)\n",
    "\n",
    "gamma = \"\"\n",
    "for i in range(len(input_day_3[0])):\n",
    "    gamma += find_most_freq(i,input_day_3)\n",
    "    \n",
    "beta = gamma.replace(\"0\",\"t\").replace(\"1\",\"0\").replace(\"t\",\"1\")\n",
    "    \n",
    "bin_to_dec(gamma)*bin_to_dec(beta)"
   ]
  },
  {
   "cell_type": "markdown",
   "metadata": {},
   "source": [
    "#### Puzzle 2"
   ]
  },
  {
   "cell_type": "code",
   "execution_count": 12,
   "metadata": {},
   "outputs": [
    {
     "data": {
      "text/plain": [
       "2795310"
      ]
     },
     "execution_count": 12,
     "metadata": {},
     "output_type": "execute_result"
    }
   ],
   "source": [
    "oxygen_list = input_day_3\n",
    "CO2_list = input_day_3\n",
    "\n",
    "for i in range(len(input_day_3[0])):\n",
    "    if (len(oxygen_list)>1):\n",
    "        oxygen_list = [x for x in oxygen_list if x[i]==find_most_freq(i,oxygen_list)]\n",
    "    if (len(CO2_list)>1):\n",
    "        CO2_list = [x for x in CO2_list if x[i]!=find_most_freq(i,CO2_list)]\n",
    "        \n",
    "bin_to_dec(oxygen_list[0]) * bin_to_dec(CO2_list[0])"
   ]
  },
  {
   "cell_type": "markdown",
   "metadata": {},
   "source": [
    "## Day 4"
   ]
  },
  {
   "cell_type": "markdown",
   "metadata": {},
   "source": [
    "#### Puzzle 1"
   ]
  },
  {
   "cell_type": "code",
   "execution_count": 13,
   "metadata": {},
   "outputs": [
    {
     "data": {
      "text/plain": [
       "34506"
      ]
     },
     "execution_count": 13,
     "metadata": {},
     "output_type": "execute_result"
    }
   ],
   "source": [
    "with open('./data/day_4/input.txt') as f:\n",
    "    data = f.read().splitlines()\n",
    "    \n",
    "numbers = list_to_int(data[0].split(\",\"))\n",
    "boards = np.array([[list_to_int(x.strip().replace(\"  \",\" \").split(\" \")) for x in data[(i*6)+2:(i*6)+7]] for i in range(100)])\n",
    "\n",
    "def find_winning_board(boards):\n",
    "    for number in numbers:\n",
    "        boards = np.where(boards == number, -1, boards)\n",
    "        for idx,board in enumerate(boards):\n",
    "            if (min(board.sum(axis=1).min(),board.sum(axis=0).min()) == -5):\n",
    "                return(np.where(board == -1, 0, board),number,idx)\n",
    "            \n",
    "winning_board, winning_number, idx = find_winning_board(boards)\n",
    "\n",
    "winning_board.sum() * winning_number"
   ]
  },
  {
   "cell_type": "markdown",
   "metadata": {},
   "source": [
    "#### Puzzle 2"
   ]
  },
  {
   "cell_type": "code",
   "execution_count": 14,
   "metadata": {},
   "outputs": [
    {
     "name": "stdout",
     "output_type": "stream",
     "text": [
      "7686\n"
     ]
    }
   ],
   "source": [
    "temp_boards = boards; winning_number=None; winning_board=None\n",
    "\n",
    "while len(temp_boards)>0:\n",
    "    winning_board, winning_number, idx = find_winning_board(temp_boards)\n",
    "    temp_boards = np.delete(temp_boards,idx,axis=0)\n",
    "    \n",
    "print(winning_board.sum()*winning_number)"
   ]
  },
  {
   "cell_type": "markdown",
   "metadata": {},
   "source": [
    "## Day 5"
   ]
  },
  {
   "cell_type": "markdown",
   "metadata": {},
   "source": [
    "#### Puzzle 1"
   ]
  },
  {
   "cell_type": "code",
   "execution_count": 15,
   "metadata": {},
   "outputs": [
    {
     "data": {
      "text/plain": [
       "8111"
      ]
     },
     "execution_count": 15,
     "metadata": {},
     "output_type": "execute_result"
    }
   ],
   "source": [
    "with open('./data/day_5/input.txt') as f:\n",
    "    data = f.read().splitlines()\n",
    "    \n",
    "starts = [point.split(\" -> \")[0].split(\",\") for point in data]\n",
    "ends = [point.split(\" -> \")[1].split(\",\") for point in data]\n",
    "\n",
    "def find_danger_zones(isAllLines=False):\n",
    "    coords_dict = defaultdict(def_value)\n",
    "\n",
    "    for start,end in zip(starts,ends):\n",
    "        x_trans = (int(start[0]),int(end[0]))\n",
    "        y_trans = (int(start[1]),int(end[1]))\n",
    "\n",
    "        delta_x  = abs(x_trans[0] - x_trans[1])\n",
    "        delta_y  = abs(y_trans[0] - y_trans[1])\n",
    "        detla_greatest = max(delta_x,delta_y)\n",
    "\n",
    "        if delta_x != 0 and delta_y != 0 and not isAllLines:\n",
    "            continue\n",
    "\n",
    "        x_linspace = np.linspace(x_trans[0],x_trans[1],detla_greatest+1)\n",
    "        y_linspace = np.linspace(y_trans[0],y_trans[1],detla_greatest+1)\n",
    "\n",
    "        for coord in list(zip(x_linspace,y_linspace)):\n",
    "            coords_dict[coord] += 1\n",
    "    \n",
    "    return coords_dict\n",
    "\n",
    "len([val for val in find_danger_zones().values() if val > 1])"
   ]
  },
  {
   "cell_type": "markdown",
   "metadata": {},
   "source": [
    "#### Puzzle 2"
   ]
  },
  {
   "cell_type": "code",
   "execution_count": 16,
   "metadata": {},
   "outputs": [
    {
     "data": {
      "text/plain": [
       "22088"
      ]
     },
     "execution_count": 16,
     "metadata": {},
     "output_type": "execute_result"
    }
   ],
   "source": [
    "len([val for val in find_danger_zones(True).values() if val > 1])"
   ]
  },
  {
   "cell_type": "markdown",
   "metadata": {},
   "source": [
    "## Day 6"
   ]
  },
  {
   "cell_type": "markdown",
   "metadata": {},
   "source": [
    "#### Puzzle 1"
   ]
  },
  {
   "cell_type": "code",
   "execution_count": 17,
   "metadata": {},
   "outputs": [
    {
     "data": {
      "text/plain": [
       "360761"
      ]
     },
     "execution_count": 17,
     "metadata": {},
     "output_type": "execute_result"
    }
   ],
   "source": [
    "with open('./data/day_6/input.txt') as f:\n",
    "    fishs = list_to_int(f.read().splitlines()[0].split(\",\"))\n",
    "    \n",
    "def get_fish_count(fishs,iterations):\n",
    "    \n",
    "    fish_d = defaultdict(def_value)\n",
    "    \n",
    "    for item in fishs:\n",
    "        fish_d[item] += 1\n",
    "    \n",
    "    for i in range(iterations):\n",
    "        new_fish = fish_d[0]\n",
    "\n",
    "        for i in range(0,8):\n",
    "            fish_d[i] = fish_d[i+1]\n",
    "\n",
    "        fish_d[6] = fish_d[6]+ new_fish\n",
    "        fish_d[8] = new_fish\n",
    "    return sum(fish_d.values())\n",
    "\n",
    "get_fish_count(fishs,80)"
   ]
  },
  {
   "cell_type": "markdown",
   "metadata": {},
   "source": [
    "#### Puzzle 2"
   ]
  },
  {
   "cell_type": "code",
   "execution_count": 18,
   "metadata": {},
   "outputs": [
    {
     "data": {
      "text/plain": [
       "1632779838045"
      ]
     },
     "execution_count": 18,
     "metadata": {},
     "output_type": "execute_result"
    }
   ],
   "source": [
    "get_fish_count(fishs,256)"
   ]
  },
  {
   "cell_type": "markdown",
   "metadata": {},
   "source": [
    "## Day 7"
   ]
  },
  {
   "cell_type": "markdown",
   "metadata": {},
   "source": [
    "#### Puzzle 1"
   ]
  },
  {
   "cell_type": "code",
   "execution_count": 19,
   "metadata": {},
   "outputs": [
    {
     "data": {
      "text/plain": [
       "343441"
      ]
     },
     "execution_count": 19,
     "metadata": {},
     "output_type": "execute_result"
    }
   ],
   "source": [
    "with open('./data/day_7/input.txt') as f:\n",
    "    crabs = np.array(list_to_int(f.read().splitlines()[0].split(\",\")))\n",
    "    \n",
    "def find_best_crab_position(crabs,fuel_function):\n",
    "    pos = int(crabs.mean())\n",
    "    mean_fuel = fuel_function(pos,crabs)\n",
    "    right = fuel_function(pos+1,crabs)\n",
    "    left = fuel_function(pos-1,crabs)\n",
    "\n",
    "    if mean_fuel < right and mean_fuel < left:\n",
    "        return(mean_fuel)\n",
    "\n",
    "    previous_value = right\n",
    "    iterator = 1\n",
    "    \n",
    "    if left < right:\n",
    "        iterator = -1\n",
    "        previous_value = left\n",
    "\n",
    "    pos+=iterator\n",
    "    next_value = fuel_function(pos+iterator,crabs)\n",
    "\n",
    "    while previous_value > next_value:\n",
    "        previous_value = next_value\n",
    "        pos+=iterator\n",
    "        next_value = fuel_function(pos+iterator,crabs)\n",
    "\n",
    "    return(previous_value)\n",
    "\n",
    "def linear_fuel(value,crabs):\n",
    "    fuel = np.sum(np.abs(value - crabs))\n",
    "    return fuel\n",
    "\n",
    "\n",
    "    \n",
    "find_best_crab_position(crabs,linear_fuel)"
   ]
  },
  {
   "cell_type": "markdown",
   "metadata": {},
   "source": [
    "#### Puzzle 2"
   ]
  },
  {
   "cell_type": "code",
   "execution_count": 20,
   "metadata": {},
   "outputs": [
    {
     "data": {
      "text/plain": [
       "98925151"
      ]
     },
     "execution_count": 20,
     "metadata": {},
     "output_type": "execute_result"
    }
   ],
   "source": [
    "def fuelcost(n):\n",
    "    if n == 0: return 0\n",
    "    return n + fuelcost(n-1)\n",
    "\n",
    "def exponential_fuel(value,crabs):\n",
    "    fuel = np.abs(value - crabs)\n",
    "    return(sum([fuelcost(x) for x in fuel]))\n",
    "    \n",
    "find_best_crab_position(crabs,exponential_fuel)"
   ]
  },
  {
   "cell_type": "markdown",
   "metadata": {},
   "source": [
    "## Day 8"
   ]
  },
  {
   "cell_type": "markdown",
   "metadata": {},
   "source": [
    "#### Puzzle 1"
   ]
  },
  {
   "cell_type": "code",
   "execution_count": 21,
   "metadata": {},
   "outputs": [
    {
     "name": "stdout",
     "output_type": "stream",
     "text": [
      "530\n"
     ]
    }
   ],
   "source": [
    "with open('./data/day_8/input.txt') as f:\n",
    "    data = np.array(f.read().splitlines())\n",
    "\n",
    "signals = []\n",
    "outputs = []\n",
    "for i in range(len(data)):\n",
    "    outputs.append(data[i].split(\" | \")[1].split(\" \"))\n",
    "    signals.append(data[i].split(\" | \")[0].split(\" \"))\n",
    "    \n",
    "count = 0\n",
    "for output in outputs:\n",
    "    for digit in output:\n",
    "        if (len(digit) in [2,4,7,3]):\n",
    "            count+=1\n",
    "print(count)"
   ]
  },
  {
   "cell_type": "markdown",
   "metadata": {},
   "source": [
    "#### Puzzle 2"
   ]
  },
  {
   "cell_type": "code",
   "execution_count": 22,
   "metadata": {},
   "outputs": [
    {
     "data": {
      "text/plain": [
       "1051087"
      ]
     },
     "execution_count": 22,
     "metadata": {},
     "output_type": "execute_result"
    }
   ],
   "source": [
    "decoded_ouputs = []\n",
    "\n",
    "def search_signals(signal,condition):\n",
    "    return ''.join(sorted([digit for digit in signal if condition(digit)][0]))\n",
    "\n",
    "def find_common_len(word1,word2):\n",
    "    return(len(''.join(set(word1).intersection(word2))))\n",
    "\n",
    "for signal,output in zip(signals,outputs):\n",
    "    one = search_signals(signal, lambda n: len(n) == 2)\n",
    "    four = search_signals(signal, lambda n: len(n) == 4)\n",
    "    eight = search_signals(signal, lambda n: len(n) == 7)\n",
    "    seven = search_signals(signal, lambda n: len(n) == 3)\n",
    "    three = search_signals(signal, lambda n: len(n) == 5 and find_common_len(n,one)==2)\n",
    "    six = search_signals(signal, lambda n: len(n) == 6 and find_common_len(n,seven)==2)\n",
    "    two = search_signals(signal, lambda n: len(n) == 5 and find_common_len(n,four)==2)\n",
    "    five = search_signals(signal, lambda n: len(n) == 5 and find_common_len(n,six)==5)\n",
    "    nine = search_signals(signal, lambda n: len(n) == 6 and find_common_len(n,four)==4)\n",
    "    zero = search_signals(signal, lambda n: len(n) == 6 and \n",
    "                          find_common_len(n,four)==3 \n",
    "                          and find_common_len(n,seven)==3)\n",
    "\n",
    "    digits_map = {one:1, two:2,three:3,four:4,five:5,six:6,seven:7,eight:8,nine:9,zero:0}\n",
    "\n",
    "    final=\"\"\n",
    "    for digit in output:\n",
    "        final += str(digits_map[''.join(sorted(digit))])\n",
    "    decoded_ouputs.append(int(final))\n",
    "\n",
    "sum(decoded_ouputs)"
   ]
  },
  {
   "cell_type": "markdown",
   "metadata": {},
   "source": [
    "## Day 9"
   ]
  },
  {
   "cell_type": "markdown",
   "metadata": {},
   "source": [
    "#### Puzzle 1"
   ]
  },
  {
   "cell_type": "code",
   "execution_count": 23,
   "metadata": {},
   "outputs": [
    {
     "name": "stdout",
     "output_type": "stream",
     "text": [
      "558\n"
     ]
    }
   ],
   "source": [
    "with open('./data/day_9/input.txt') as f:\n",
    "    smoke_data = np.array(f.read().splitlines())\n",
    "\n",
    "risk_level = 0\n",
    "lowpoints = []\n",
    "size = len(smoke_data)\n",
    "\n",
    "for i in range(size):\n",
    "    for j in range(size):\n",
    "        adjacent_points = []\n",
    "        elevation = int(smoke_data[i][j])\n",
    "        \n",
    "        if (i > 0):\n",
    "            adjacent_points.append(smoke_data[i-1][j])\n",
    "        if (i < 99):\n",
    "            adjacent_points.append(smoke_data[i+1][j])\n",
    "        if (j > 0):\n",
    "            adjacent_points.append(smoke_data[i][j-1])\n",
    "        if (j < 99):\n",
    "            adjacent_points.append(smoke_data[i][j+1])\n",
    "            \n",
    "        if (len([point for point in adjacent_points if int(point) <= elevation]) == 0):\n",
    "            risk_level += elevation+1\n",
    "            lowpoints.append((i,j))\n",
    "\n",
    "print(risk_level)"
   ]
  },
  {
   "cell_type": "markdown",
   "metadata": {},
   "source": [
    "#### Puzzle 2"
   ]
  },
  {
   "cell_type": "code",
   "execution_count": 24,
   "metadata": {},
   "outputs": [
    {
     "data": {
      "text/plain": [
       "882942"
      ]
     },
     "execution_count": 24,
     "metadata": {},
     "output_type": "execute_result"
    }
   ],
   "source": [
    "def search_basin(i,j, searched_points):\n",
    "    if (i < 0 or j < 0 or j > 99 or i > 99 or (i,j) in searched_points or smoke_data[i][j] == \"9\"):\n",
    "        return 0\n",
    "\n",
    "    searched_points.append((i,j))\n",
    "\n",
    "    return (1 + search_basin(i+1,j,searched_points) \n",
    "            + search_basin(i,j+1,searched_points) \n",
    "            + search_basin(i-1,j,searched_points)  \n",
    "            + search_basin(i,j-1,searched_points))\n",
    "\n",
    "basin_sizes = []\n",
    "for item in lowpoints:\n",
    "    basin_sizes.append(search_basin(item[0],item[1],[]))\n",
    "\n",
    "np.product(sorted(basin_sizes)[-3:])"
   ]
  },
  {
   "cell_type": "markdown",
   "metadata": {},
   "source": [
    "## Day 10"
   ]
  },
  {
   "cell_type": "markdown",
   "metadata": {},
   "source": [
    "#### Puzzle 1"
   ]
  },
  {
   "cell_type": "code",
   "execution_count": 25,
   "metadata": {},
   "outputs": [
    {
     "data": {
      "text/plain": [
       "339411"
      ]
     },
     "execution_count": 25,
     "metadata": {},
     "output_type": "execute_result"
    }
   ],
   "source": [
    "with open('./data/day_10/input.txt') as f:\n",
    "    data = f.read().splitlines()\n",
    "\n",
    "bracket_pair_d = {\"{\":\"}\",\"[\":\"]\",\"<\":\">\",\"(\":\")\"}\n",
    "syntax_error_score_d = {\"}\":1197,\"]\":57,\">\":25137,\")\":3}\n",
    "\n",
    "def find_illegal(line,syntax_error_score_d,bracket_pair_d):\n",
    "    unclosed_brackets = \"\"\n",
    "    for bracket in line:\n",
    "        if bracket in bracket_pair_d.keys():\n",
    "            unclosed_brackets+=bracket\n",
    "        else:\n",
    "            if bracket_pair_d[unclosed_brackets[-1]]==bracket:\n",
    "                unclosed_brackets = unclosed_brackets[:-1]\n",
    "            else:\n",
    "                return syntax_error_score_d[bracket]\n",
    "    return 0\n",
    "\n",
    "sum([find_illegal(line,syntax_error_score_d,bracket_pair_d) for line in data])"
   ]
  },
  {
   "cell_type": "markdown",
   "metadata": {},
   "source": [
    "#### Puzzle 2"
   ]
  },
  {
   "cell_type": "code",
   "execution_count": 26,
   "metadata": {},
   "outputs": [
    {
     "data": {
      "text/plain": [
       "2289754624"
      ]
     },
     "execution_count": 26,
     "metadata": {},
     "output_type": "execute_result"
    }
   ],
   "source": [
    "autocomplete_score_d = {\"{\":3,\"[\":2,\"<\":4,\"(\":1}\n",
    "\n",
    "def get_autocomplete_score(unclosed_brackets, autocomplete_score_d):\n",
    "    scores = [autocomplete_score_d[bracket] for bracket in unclosed_brackets]\n",
    "    total = 0\n",
    "    for score in reversed(scores):\n",
    "        total = total*5+score\n",
    "    return(total)\n",
    "\n",
    "def find_incomplete(line):\n",
    "    unclosed_brackets = \"\"\n",
    "    for bracket in line:\n",
    "        if bracket in bracket_pair_d.keys():\n",
    "            unclosed_brackets+=bracket\n",
    "        else:\n",
    "            if bracket_pair_d[unclosed_brackets[-1]]==bracket:\n",
    "                unclosed_brackets = unclosed_brackets[:-1]\n",
    "            else:\n",
    "                return 0\n",
    "    return get_autocomplete_score(unclosed_brackets, autocomplete_score_d)\n",
    "\n",
    "autocomplete_scores = sorted([find_incomplete(line) for line in data if find_incomplete(line) > 0])\n",
    "autocomplete_scores[len(autocomplete_scores)//2]"
   ]
  },
  {
   "cell_type": "markdown",
   "metadata": {},
   "source": [
    "## Day 11"
   ]
  },
  {
   "cell_type": "markdown",
   "metadata": {},
   "source": [
    "#### Puzzle 1"
   ]
  },
  {
   "cell_type": "code",
   "execution_count": 27,
   "metadata": {},
   "outputs": [
    {
     "data": {
      "text/plain": [
       "1793"
      ]
     },
     "execution_count": 27,
     "metadata": {},
     "output_type": "execute_result"
    }
   ],
   "source": [
    "with open('./data/day_11/input.txt') as f:\n",
    "    data = f.read().splitlines()\n",
    "octupus = np.array([list_to_int(line) for line in data])\n",
    "maxv = len(octupus) - 1\n",
    "\n",
    "def update_point(i,j,ps,octupus):\n",
    "    if octupus[i][j] > 9 and not (i,j) in ps:\n",
    "        ps.append((i,j))\n",
    "        \n",
    "        if i < maxv:\n",
    "            octupus[i+1][j] += 1\n",
    "            octupus = update_point(i+1,j,ps,octupus)\n",
    "        if i > 0: \n",
    "            octupus[i-1][j] += 1\n",
    "            octupus = update_point(i-1,j,ps,octupus)\n",
    "        if j < maxv:\n",
    "            octupus[i][j+1] += 1\n",
    "            octupus = update_point(i,j+1,ps,octupus)\n",
    "        if j > 0:\n",
    "            octupus[i][j-1] += 1\n",
    "            octupus = update_point(i,j-1,ps,octupus)\n",
    "        if i < maxv and j < maxv:\n",
    "            octupus[i+1][j+1] += 1\n",
    "            octupus = update_point(i+1,j+1,ps,octupus)\n",
    "        if i > 0 and j < maxv:\n",
    "            octupus[i-1][j+1] += 1\n",
    "            octupus = update_point(i-1,j+1,ps,octupus)\n",
    "        if i < maxv and j > 0:\n",
    "            octupus[i+1][j-1] += 1\n",
    "            octupus = update_point(i+1,j-1,ps,octupus)\n",
    "        if i > 0 and j > 0:  \n",
    "            octupus[i-1][j-1] += 1\n",
    "            octupus = update_point(i-1,j-1,ps,octupus)\n",
    "    return octupus\n",
    "\n",
    "def step_octupus(octupus):\n",
    "    octupus = octupus+1\n",
    "    points_updated = []\n",
    "    for i in range(10):\n",
    "        for j in range(10):\n",
    "            octupus = update_point(i,j,points_updated, octupus)\n",
    "    octupus = np.where(octupus>9,0,octupus)\n",
    "    return octupus\n",
    "\n",
    "def get_flashes(octupus):\n",
    "    return np.where(octupus==0)[0].size\n",
    "\n",
    "\n",
    "total_flashes = 0\n",
    "for steps in range(100):\n",
    "    octupus = step_octupus(octupus)\n",
    "    total_flashes += get_flashes(octupus)\n",
    "total_flashes"
   ]
  },
  {
   "cell_type": "markdown",
   "metadata": {},
   "source": [
    "#### Puzzle 2"
   ]
  },
  {
   "cell_type": "code",
   "execution_count": 28,
   "metadata": {},
   "outputs": [
    {
     "name": "stdout",
     "output_type": "stream",
     "text": [
      "247\n"
     ]
    }
   ],
   "source": [
    "octupus = np.array([list_to_int(line) for line in data])\n",
    "\n",
    "step_count = 0\n",
    "while get_flashes(octupus) != 100:\n",
    "    octupus = step_octupus(octupus)\n",
    "    step_count+=1\n",
    "    \n",
    "print(step_count)"
   ]
  },
  {
   "cell_type": "markdown",
   "metadata": {},
   "source": [
    "## Day 12"
   ]
  },
  {
   "cell_type": "markdown",
   "metadata": {},
   "source": [
    "#### Puzzle 1"
   ]
  },
  {
   "cell_type": "code",
   "execution_count": 29,
   "metadata": {},
   "outputs": [
    {
     "data": {
      "text/plain": [
       "4773"
      ]
     },
     "execution_count": 29,
     "metadata": {},
     "output_type": "execute_result"
    }
   ],
   "source": [
    "with open('./data/day_12/input.txt') as f:\n",
    "    paths = f.read().splitlines()\n",
    "\n",
    "def def_value_list():\n",
    "    return []\n",
    "\n",
    "path_d = defaultdict(def_value_list)\n",
    "\n",
    "for path in paths:\n",
    "    nodes = path.split(\"-\")\n",
    "    path_d[nodes[0]].append(nodes[1])\n",
    "    path_d[nodes[1]].append(nodes[0])\n",
    "\n",
    "def find_path(path,node):\n",
    "    if node == \"end\":\n",
    "        return 1\n",
    "    \n",
    "    if node in path and node != node.upper():\n",
    "        return 0\n",
    "    \n",
    "    caves = 0\n",
    "    for child in path_d[node]:\n",
    "        caves+=find_path([*path,node],child)\n",
    "    return caves\n",
    "        \n",
    "find_path([],\"start\")"
   ]
  },
  {
   "cell_type": "markdown",
   "metadata": {},
   "source": [
    "#### Puzzle 2"
   ]
  },
  {
   "cell_type": "code",
   "execution_count": 30,
   "metadata": {},
   "outputs": [
    {
     "data": {
      "text/plain": [
       "116985"
      ]
     },
     "execution_count": 30,
     "metadata": {},
     "output_type": "execute_result"
    }
   ],
   "source": [
    "def find_path_pt2(path,node,visited_small_twice):\n",
    "    if node == \"end\":\n",
    "        return 1\n",
    "    \n",
    "    visited_small_twice_now = visited_small_twice\n",
    "    \n",
    "    if node in path and node != node.upper():\n",
    "        if visited_small_twice == False and node != \"start\":\n",
    "            visited_small_twice_now = True\n",
    "        else:\n",
    "            return 0\n",
    "    \n",
    "    caves = 0\n",
    "    for child in path_d[node]:\n",
    "        caves+=find_path_pt2([*path,node],child,visited_small_twice_now)\n",
    "    return caves\n",
    "        \n",
    "find_path_pt2([],\"start\",False)"
   ]
  },
  {
   "cell_type": "markdown",
   "metadata": {},
   "source": [
    "## Day 13"
   ]
  },
  {
   "cell_type": "markdown",
   "metadata": {},
   "source": [
    "#### Puzzle 1"
   ]
  },
  {
   "cell_type": "code",
   "execution_count": 31,
   "metadata": {},
   "outputs": [
    {
     "data": {
      "text/plain": [
       "770"
      ]
     },
     "execution_count": 31,
     "metadata": {},
     "output_type": "execute_result"
    }
   ],
   "source": [
    "with open('./data/day_13/input.txt') as f:\n",
    "    data = f.read().splitlines()\n",
    "\n",
    "coords = data[:-13]\n",
    "instrucitons = data[-12:]\n",
    "instrucitons = [(x.split(\"=\")[0][-1],int(x.split(\"=\")[1]))  for x in instrucitons]\n",
    "\n",
    "x_cords = [int(x.split(\",\")[0]) for x in coords]\n",
    "y_cords = [int(x.split(\",\")[1]) for x in coords]\n",
    "\n",
    "def initialize_grid(x_cords,y_cords):\n",
    "    grid = np.zeros((max(x_cords)+2,max(y_cords)+1))\n",
    "    for i in range(len(x_cords)):\n",
    "        grid[x_cords[i],y_cords[i]] = 1\n",
    "    grid = grid == True\n",
    "    return grid\n",
    "\n",
    "grid = initialize_grid(x_cords,y_cords)\n",
    "\n",
    "def apply_grid_transformation(grid,axis,position):\n",
    "    if axis == 'x':\n",
    "        rhs = grid[position+1:,:]\n",
    "        lhs_flipped = np.flip(grid[0:position,:],axis=0)\n",
    "        grid = np.logical_or(rhs,lhs_flipped)\n",
    "    else:\n",
    "        bottom = grid[:,position+1:]\n",
    "        top_flipped = np.flip(grid[:,0:position],axis=1)\n",
    "        grid = np.logical_or(bottom,top_flipped)\n",
    "    return grid\n",
    "\n",
    "\n",
    "apply_grid_transformation(grid,instrucitons[0][0],instrucitons[0][1]).sum()"
   ]
  },
  {
   "cell_type": "markdown",
   "metadata": {},
   "source": [
    "#### Puzzle 2"
   ]
  },
  {
   "cell_type": "code",
   "execution_count": 32,
   "metadata": {},
   "outputs": [
    {
     "name": "stdout",
     "output_type": "stream",
     "text": [
      "⬛⬛⬛⬛⬜⬛⬛⬛⬜⬜⬛⬜⬜⬛⬜⬛⬛⬛⬛⬜⬛⬜⬜⬜⬜⬛⬛⬛⬜⬜⬛⬛⬛⬜⬜⬛⬛⬛⬜⬜\n",
      "⬛⬜⬜⬜⬜⬛⬜⬜⬛⬜⬛⬜⬜⬛⬜⬛⬜⬜⬜⬜⬛⬜⬜⬜⬜⬛⬜⬜⬛⬜⬛⬜⬜⬛⬜⬛⬜⬜⬛⬜\n",
      "⬛⬛⬛⬜⬜⬛⬜⬜⬛⬜⬛⬜⬜⬛⬜⬛⬛⬛⬜⬜⬛⬜⬜⬜⬜⬛⬜⬜⬛⬜⬛⬛⬛⬜⬜⬛⬜⬜⬛⬜\n",
      "⬛⬜⬜⬜⬜⬛⬛⬛⬜⬜⬛⬜⬜⬛⬜⬛⬜⬜⬜⬜⬛⬜⬜⬜⬜⬛⬛⬛⬜⬜⬛⬜⬜⬛⬜⬛⬛⬛⬜⬜\n",
      "⬛⬜⬜⬜⬜⬛⬜⬜⬜⬜⬛⬜⬜⬛⬜⬛⬜⬜⬜⬜⬛⬜⬜⬜⬜⬛⬜⬜⬜⬜⬛⬜⬜⬛⬜⬛⬜⬛⬜⬜\n",
      "⬛⬛⬛⬛⬜⬛⬜⬜⬜⬜⬜⬛⬛⬜⬜⬛⬛⬛⬛⬜⬛⬛⬛⬛⬜⬛⬜⬜⬜⬜⬛⬛⬛⬜⬜⬛⬜⬜⬛⬜\n"
     ]
    }
   ],
   "source": [
    "for axis,position in instrucitons:\n",
    "    grid = apply_grid_transformation(grid,axis,position)\n",
    "\n",
    "my_dict = {False:\"\\u2B1C\", True: '\\u2B1B'}\n",
    "s = np.vectorize(my_dict.get)(grid)\n",
    "for item in reversed(np.flipud(s).T):\n",
    "    print(\"\".join(item))"
   ]
  },
  {
   "cell_type": "markdown",
   "metadata": {},
   "source": [
    "## Day 14"
   ]
  },
  {
   "cell_type": "markdown",
   "metadata": {},
   "source": [
    "#### Puzzle 1"
   ]
  },
  {
   "cell_type": "code",
   "execution_count": 33,
   "metadata": {},
   "outputs": [
    {
     "data": {
      "text/plain": [
       "3342"
      ]
     },
     "execution_count": 33,
     "metadata": {},
     "output_type": "execute_result"
    }
   ],
   "source": [
    "with open('./data/day_14/input.txt') as f:\n",
    "    data = f.read().splitlines()\n",
    "    \n",
    "pair_insertion = data[2:]\n",
    "polymer = data[0]\n",
    "\n",
    "pair_insertion_d = {}\n",
    "for pair in pair_insertion:\n",
    "    left = pair.split(\" -> \")[0]\n",
    "    right = pair.split(\" -> \")[1]\n",
    "    output1 = left[0] + right\n",
    "    output2 = right + left[1]\n",
    "    pair_insertion_d[left] = [output1,output2]\n",
    "\n",
    "polymer_pair_d  = defaultdict(def_value)\n",
    "for i in range(len(polymer)-1):\n",
    "    polymer_pair_d[polymer[i]+polymer[i+1]] += 1\n",
    "\n",
    "def polymerize(polymer_pair_d, pair_insertion_d, steps):\n",
    "    for i in range(steps):\n",
    "        polymer_pair_items = list(polymer_pair_d.items()).copy()\n",
    "        for polymer_pair,count in polymer_pair_items:\n",
    "            polymer_pair_d[polymer_pair] -= count\n",
    "            polymer_pair_d[pair_insertion_d[polymer_pair][0]] += count\n",
    "            polymer_pair_d[pair_insertion_d[polymer_pair][1]] += count\n",
    "    return(polymer_pair_d)\n",
    "\n",
    "def get_poylmer_metric(polymer_pair_d):\n",
    "    element_counts_d = defaultdict(def_value)\n",
    "\n",
    "    for polymer_pair,count in polymer_pair_d.items():\n",
    "        element_counts_d[polymer_pair[0]] += count\n",
    "        element_counts_d[polymer_pair[1]] += count\n",
    "\n",
    "    for element,count in element_counts_d.items():\n",
    "        if (count % 2) == 1:\n",
    "            element_counts_d[element] = (count-1)/2 + 1\n",
    "        else:\n",
    "            element_counts_d[element] = count/2\n",
    "\n",
    "    element_counts = sorted(list(element_counts_d.values()))\n",
    "    return(int(element_counts[-1]-element_counts[0]))\n",
    "\n",
    "get_poylmer_metric(polymerize(polymer_pair_d, pair_insertion_d, 10))"
   ]
  },
  {
   "cell_type": "markdown",
   "metadata": {},
   "source": [
    "#### Puzzle 2"
   ]
  },
  {
   "cell_type": "code",
   "execution_count": 34,
   "metadata": {},
   "outputs": [
    {
     "data": {
      "text/plain": [
       "3866727352294029"
      ]
     },
     "execution_count": 34,
     "metadata": {},
     "output_type": "execute_result"
    }
   ],
   "source": [
    "get_poylmer_metric(polymerize(polymer_pair_d, pair_insertion_d, 40))"
   ]
  },
  {
   "cell_type": "markdown",
   "metadata": {},
   "source": [
    "## Day 15"
   ]
  },
  {
   "cell_type": "markdown",
   "metadata": {},
   "source": [
    "#### Puzzle 1"
   ]
  },
  {
   "cell_type": "code",
   "execution_count": 35,
   "metadata": {},
   "outputs": [
    {
     "data": {
      "text/plain": [
       "458"
      ]
     },
     "execution_count": 35,
     "metadata": {},
     "output_type": "execute_result"
    }
   ],
   "source": [
    "with open('./data/day_15/input.txt') as f:\n",
    "    data = f.read().splitlines()\n",
    "    \n",
    "grid = np.array([list_to_int(x) for x in data])\n",
    "\n",
    "from queue import PriorityQueue\n",
    "\n",
    "def get_neighbors(i,j,size):\n",
    "    neighbours = []\n",
    "    if i < size-1:\n",
    "        neighbours.append((i+1,j))\n",
    "    if j < size-1:\n",
    "        neighbours.append((i,j+1))\n",
    "    if i > 0:\n",
    "        neighbours.append((i-1,j))\n",
    "    if j > 0:\n",
    "        neighbours.append((i,j-1))\n",
    "    return neighbours\n",
    "\n",
    "\n",
    "def dijkstra(grid, i,j):\n",
    "    size = len(grid)\n",
    "    cost = np.full((size, size), np.inf)\n",
    "    visited_nodes = np.full((size, size), 0)\n",
    "    \n",
    "    cost[i][j] = 0\n",
    "    pq = PriorityQueue()\n",
    "    pq.put((0,i,j))\n",
    "\n",
    "    while not pq.empty():\n",
    "        dist, i,j = pq.get()\n",
    "        visited_nodes[i][j] = 1\n",
    "        \n",
    "        for n,m in get_neighbors(i,j,size):\n",
    "            distance = grid[n][m]\n",
    "            if visited_nodes[n][m]==0:\n",
    "                old_cost = cost[n][m]\n",
    "                new_cost = cost[i][j] + distance\n",
    "                if new_cost < old_cost:\n",
    "                    pq.put((new_cost,n,m))\n",
    "                    cost[n][m] = new_cost\n",
    "    return int(cost[-1][-1])\n",
    "\n",
    "dijkstra(grid,0,0)"
   ]
  },
  {
   "cell_type": "markdown",
   "metadata": {},
   "source": [
    "#### Puzzle 2"
   ]
  },
  {
   "cell_type": "code",
   "execution_count": 36,
   "metadata": {},
   "outputs": [
    {
     "data": {
      "text/plain": [
       "2800"
      ]
     },
     "execution_count": 36,
     "metadata": {},
     "output_type": "execute_result"
    }
   ],
   "source": [
    "def wrap(num):\n",
    "    if num > 9:\n",
    "        return (num % 10) + 1\n",
    "    else:\n",
    "        return num\n",
    "    \n",
    "wrap_v = np.vectorize(wrap)\n",
    "\n",
    "grid_pt2 = np.concatenate((grid, wrap_v(grid+1),wrap_v(grid+2),wrap_v(grid+3),wrap_v(grid+4)), axis=1)\n",
    "grid_pt2 = np.concatenate((grid_pt2, wrap_v(grid_pt2+1),wrap_v(grid_pt2+2),wrap_v(grid_pt2+3),wrap_v(grid_pt2+4)), axis=0)\n",
    "\n",
    "dijkstra(grid_pt2,0,0)"
   ]
  },
  {
   "cell_type": "markdown",
   "metadata": {},
   "source": [
    "## Day 16"
   ]
  },
  {
   "cell_type": "markdown",
   "metadata": {},
   "source": [
    "#### Puzzle 1"
   ]
  },
  {
   "cell_type": "code",
   "execution_count": 71,
   "metadata": {},
   "outputs": [
    {
     "data": {
      "text/plain": [
       "860"
      ]
     },
     "execution_count": 71,
     "metadata": {},
     "output_type": "execute_result"
    }
   ],
   "source": [
    "with open('./data/day_16/input.txt') as f:\n",
    "    data = f.read().splitlines()\n",
    "    \n",
    "def count_bits(node):\n",
    "    count = len(node.bin_string)\n",
    "    for children in node.children:\n",
    "        count += count_bits(children)\n",
    "    return count\n",
    "\n",
    "get_bin = lambda x, n: format(x, 'b').zfill(n)\n",
    "\n",
    "def to_binary(string):\n",
    "    output = \"\"\n",
    "    for ele in string:\n",
    "        output += get_bin(int(ele,16),4)\n",
    "    return output\n",
    "\n",
    "def get_version_number(bin_string):\n",
    "    version = int(bin_string[0:3],2)\n",
    "    type_s = int(bin_string[3:6],2)\n",
    "    Node(bin_string)\n",
    "    print(\"version: \" + str(version))\n",
    "    print(\"type_s: \" + str(type_s))\n",
    "    \n",
    "    if type_s == 4:\n",
    "        return version\n",
    "    else:\n",
    "        length_type = int(bin_string[6])\n",
    "        \n",
    "        print(\"length: \" + str(length_type))\n",
    "    \n",
    "        if length_type == 0:\n",
    "            print(\"hello\")\n",
    "            bit_length = int(bin_string[7:7+15],2)\n",
    "            sub_packets = bin_string[7+15:]\n",
    "            print(\"bit_length: \" + str(bit_length))\n",
    "            return version + (get_version_number(sub_packets[:bit_length]))\n",
    "\n",
    "        else:\n",
    "            packets = int(bin_string[7:7+11],2)\n",
    "            sub_packets = bin_string[7+11:]\n",
    "            print(\"packets: \" + str(packets))\n",
    "            print(\"sub_packets: \" + str(sub_packets))\n",
    "            return version + (get_version_number(sub_packets))\n",
    "\n",
    "class Node:\n",
    "    def __init__(self, bin_string):\n",
    "        self.children = []\n",
    "        self.parent = None\n",
    "        self.bin_string = bin_string\n",
    "\n",
    "        \n",
    "    def get_version(self):\n",
    "        return int(self.bin_string[0:3],2)\n",
    "    \n",
    "    def get_type_id(self):\n",
    "        return int(self.bin_string[3:6],2)\n",
    "        \n",
    "    def get_literal(self):\n",
    "        return int(\"\".join([x for i, x in enumerate(self.bin_string[6:]) if i%5 !=0]),2)\n",
    "        \n",
    "    def get_bit_length(self):\n",
    "        return int(self.bin_string[7:7+15],2)\n",
    "\n",
    "    def get_packets(self):\n",
    "        return int(self.bin_string[7:7+11],2)\n",
    "\n",
    "    def get_length_type(self):\n",
    "        return int(self.bin_string[6])\n",
    "    \n",
    "    def is_statisfied(self):\n",
    "        if self.get_length_type() == 0:\n",
    "            return sum([count_bits(child) for child in self.children]) == self.get_bit_length()\n",
    "        else:\n",
    "            return len(self.children) == self.get_packets()\n",
    "\n",
    "def traverse_graph(node):\n",
    "    if node.bin_string == '' or int(node.bin_string,2) == 0:\n",
    "        return\n",
    "        \n",
    "    if node.get_type_id() == 4:\n",
    "        idx = 6\n",
    "        while node.bin_string[idx] == '1':\n",
    "            idx += 5\n",
    "        idx+=5\n",
    "        remaining = node.bin_string[idx:]\n",
    "        node.bin_string = node.bin_string[0:idx]\n",
    "        return(remaining)\n",
    "    else:\n",
    "        remaining = \"\"\n",
    "        if node.get_length_type() == 0:\n",
    "            remaining = node.bin_string[7+15:]\n",
    "            node.bin_string = node.bin_string[:7+15]\n",
    "        else:\n",
    "            remaining = node.bin_string[7+11:]\n",
    "            node.bin_string = node.bin_string[:7+11]\n",
    "        \n",
    "        \n",
    "        while not node.is_statisfied():\n",
    "            child = Node(remaining)\n",
    "            child.parent = transmission\n",
    "            node.children.append(child)\n",
    "            remaining = traverse_graph(child)\n",
    "        return remaining\n",
    "    \n",
    "transmission = Node(to_binary(\"A059141803C0008447E897180401F82F1E60D80021D11A3DC3F300470015786935BED80A5DB5002F69B4298A60FE73BE41968F48080328D00427BCD339CC7F431253838CCEFF4A943803D251B924EC283F16D400C9CDB3180213D2D542EC01092D77381A98DA89801D241705C80180960E93469801400F0A6CEA7617318732B08C67DA48C27551C00F972830052800B08550A277416401A5C913D0043D2CD125AC4B1DB50E0802059552912E9676931530046C0141007E3D4698E20008744D89509677DBF5759F38CDC594401093FC67BACDCE66B3C87380553E7127B88ECACAD96D98F8AC9E570C015C00B8E4E33AD33632938CEB4CD8C67890C01083B800E5CBDAB2BDDF65814C01299D7E34842E85801224D52DF9824D52DF981C4630047401400042E144698B2200C4328731CA6F9CBCA5FBB798021259B7B3BBC912803879CD67F6F5F78BB9CD6A77D42F1223005B8037600042E25C158FE0008747E8F50B276116C9A2730046801F29BC854A6BF4C65F64EB58DF77C018009D640086C318870A0C01D88105A0B9803310E2045C8CF3F4E7D7880484D0040001098B51DA0980021F17A3047899585004E79CE4ABD503005E610271ED4018899234B64F64588C0129EEDFD2EFBA75E0084CC659AF3457317069A509B97FB3531003254D080557A00CC8401F8791DA13080391EA39C739EFEE5394920C01098C735D51B004A7A92F6A0953D497B504F200F2BC01792FE9D64BFA739584774847CE26006A801AC05DE180184053E280104049D10111CA006300E962005A801E2007B80182007200792E00420051E400EF980192DC8471E259245100967FF7E6F2CF25DBFA8593108D342939595454802D79550C0068A72F0DC52A7D68003E99C863D5BC7A411EA37C229A86EBBC0CB802B331FDBED13BAB92080310265296AFA1EDE8AA64A0C02C9D49966195609C0594223005B80152977996D69EE7BD9CE4C1803978A7392ACE71DA448914C527FFE140\"))\n",
    "traverse_graph(transmission)\n",
    "\n",
    "def count_version(node):\n",
    "    count = node.get_version()\n",
    "    for children in node.children:\n",
    "        count += count_version(children)\n",
    "    return count\n",
    "\n",
    "count_version(transmission)"
   ]
  },
  {
   "cell_type": "markdown",
   "metadata": {},
   "source": [
    "#### Puzzle 2"
   ]
  },
  {
   "cell_type": "code",
   "execution_count": 72,
   "metadata": {},
   "outputs": [
    {
     "data": {
      "text/plain": [
       "470949537659"
      ]
     },
     "execution_count": 72,
     "metadata": {},
     "output_type": "execute_result"
    }
   ],
   "source": [
    "def multiplyList(myList) :\n",
    "    result = 1\n",
    "    for x in myList:\n",
    "         result = result * x\n",
    "    return result\n",
    "\n",
    "def compute(node):\n",
    "    if len(node.children) == 0:\n",
    "        return (node.get_literal())\n",
    "    if (node.get_type_id() == 0):\n",
    "        return sum([compute(children) for children in  node.children])\n",
    "    if (node.get_type_id() == 1):\n",
    "        return multiplyList([compute(children) for children in  node.children])\n",
    "    if (node.get_type_id() == 2):\n",
    "        return min([compute(children) for children in  node.children])\n",
    "    if (node.get_type_id() == 3):\n",
    "        return max([compute(children) for children in  node.children])\n",
    "    if (node.get_type_id() == 5):\n",
    "        return int(compute(node.children[0]) > compute(node.children[1]))\n",
    "    if (node.get_type_id() == 6):\n",
    "        return int(compute(node.children[0]) < compute(node.children[1]))\n",
    "    if (node.get_type_id() == 7):\n",
    "        return int(compute(node.children[0]) == compute(node.children[1]))\n",
    "compute(transmission)"
   ]
  },
  {
   "cell_type": "markdown",
   "metadata": {},
   "source": [
    "## Day 17"
   ]
  },
  {
   "cell_type": "markdown",
   "metadata": {},
   "source": [
    "#### Puzzle 1"
   ]
  },
  {
   "cell_type": "code",
   "execution_count": 106,
   "metadata": {},
   "outputs": [
    {
     "data": {
      "text/plain": [
       "35511"
      ]
     },
     "execution_count": 106,
     "metadata": {},
     "output_type": "execute_result"
    }
   ],
   "source": [
    "with open('./data/day_17/input.txt') as f:\n",
    "    data = f.read().splitlines()[0][13:]\n",
    "\n",
    "coords = [list_to_int(coord[2:].split(\"..\")) for coord in data.split(\", \")]\n",
    "\n",
    "x_box = tuple(coords[0])\n",
    "y_box = tuple(reversed(coords[1]))\n",
    "\n",
    "def drag(vec):\n",
    "    if vec == 0:\n",
    "        return 0\n",
    "    if vec > 0:\n",
    "        return vec - 1\n",
    "    else:\n",
    "        return vec + 1\n",
    "\n",
    "def in_box(x,y):\n",
    "    if x >= x_box[0] and x <= x_box[1] and y <= y_box[0] and y >= y_box[1]:\n",
    "        return True\n",
    "    return False\n",
    "\n",
    "def hits_box(vec_x,vec_y):\n",
    "    if vec_x == 0 and vec_y == 0:\n",
    "        return (False, 0)\n",
    "    x = 0; y = 0; max_y = 0\n",
    "    while x <= x_box[1] and y >= y_box[1]:\n",
    "        x=x+vec_x; y=y+vec_y; vec_y = vec_y - 1; vec_x = drag(vec_x); max_y = max(max_y,y)\n",
    "        if in_box(x,y):\n",
    "            return (True, max_y)\n",
    "    return (False, 0)\n",
    "\n",
    "number_of_hits = 0\n",
    "max_height = 0\n",
    "\n",
    "for j in range(-800,800):\n",
    "    for i in range(0,800):\n",
    "        hits, max_y = hits_box(i,j)\n",
    "        if hits:\n",
    "            number_of_hits +=1\n",
    "            max_height = max(max_y,max_height)\n",
    "max_height"
   ]
  },
  {
   "cell_type": "markdown",
   "metadata": {},
   "source": [
    "#### Puzzle 2"
   ]
  },
  {
   "cell_type": "code",
   "execution_count": 107,
   "metadata": {},
   "outputs": [
    {
     "data": {
      "text/plain": [
       "3282"
      ]
     },
     "execution_count": 107,
     "metadata": {},
     "output_type": "execute_result"
    }
   ],
   "source": [
    "number_of_hits"
   ]
  },
  {
   "cell_type": "markdown",
   "metadata": {},
   "source": [
    "## Day 18"
   ]
  },
  {
   "cell_type": "markdown",
   "metadata": {},
   "source": [
    "#### Puzzle 1"
   ]
  },
  {
   "cell_type": "code",
   "execution_count": 58,
   "metadata": {},
   "outputs": [
    {
     "data": {
      "text/plain": [
       "3981.0"
      ]
     },
     "execution_count": 58,
     "metadata": {},
     "output_type": "execute_result"
    }
   ],
   "source": [
    "import ast\n",
    "\n",
    "f = open('./data/day_18/input.txt', \"r\")\n",
    "data = f.read().splitlines()\n",
    "\n",
    "class Pair:\n",
    "    def __init__(self,left,right,parent,is_left_child):\n",
    "        self.left = left\n",
    "        self.right = right\n",
    "        self.parent = parent\n",
    "        self.is_left_child = is_left_child\n",
    "\n",
    "class RegularNumber:\n",
    "    def __init__(self,value,parent,is_left_child):\n",
    "        self.value = value\n",
    "        self.parent = parent\n",
    "        self.is_left_child = is_left_child\n",
    "        \n",
    "def make_tree(arr,parent,is_left_child):\n",
    "    if type(arr) == list:\n",
    "        new_pair = Pair(None,None,parent,is_left_child)\n",
    "        left = make_tree(arr[0],new_pair,True); right = make_tree(arr[1],new_pair,False)\n",
    "        new_pair.right = right; new_pair.left = left\n",
    "        return new_pair\n",
    "    else:\n",
    "        return RegularNumber(arr,parent,is_left_child)\n",
    "    \n",
    "def parse_input(string):\n",
    "    return make_tree(ast.literal_eval(string),None,None)\n",
    "    \n",
    "def get_magnitude(node):\n",
    "    if isinstance(node,Pair):\n",
    "        return 3*get_magnitude(node.left) + 2*get_magnitude(node.right)\n",
    "    if isinstance(node,RegularNumber):\n",
    "        return node.value\n",
    "    \n",
    "def find_next_left(node):\n",
    "    while node.is_left_child:\n",
    "        if node.parent == None:\n",
    "            return None\n",
    "        node = node.parent\n",
    "    if node.parent == None:\n",
    "            return None\n",
    "    return right_most_node(node.parent.left)\n",
    "    \n",
    "def find_next_right(node):\n",
    "    while not node.is_left_child:\n",
    "        if node.parent == None:\n",
    "            return None\n",
    "        node = node.parent\n",
    "    if node.parent == None:\n",
    "            return None\n",
    "    return left_most_node(node.parent.right)\n",
    "\n",
    "def right_most_node(node):\n",
    "    if isinstance(node,Pair):\n",
    "        return right_most_node(node.right)\n",
    "    if isinstance(node,RegularNumber):\n",
    "        return node\n",
    "\n",
    "def left_most_node(node):\n",
    "    if isinstance(node,Pair):\n",
    "        return left_most_node(node.left)\n",
    "    if isinstance(node,RegularNumber):\n",
    "        return node\n",
    "\n",
    "def find_explosion(node,lvl):\n",
    "    if isinstance(node,Pair):\n",
    "        if lvl == 4:            \n",
    "            next_left = find_next_left(node)\n",
    "            next_right = find_next_right(node)\n",
    "            \n",
    "            if next_left != None:\n",
    "                next_left.value = next_left.value + node.left.value\n",
    "            if next_right != None:\n",
    "                next_right.value = next_right.value + node.right.value\n",
    "                \n",
    "            if node.is_left_child:\n",
    "                node.parent.left = RegularNumber(0,node.parent,True)\n",
    "            else:\n",
    "                node.parent.right = RegularNumber(0,node.parent,False)  \n",
    "            return True\n",
    "        if find_explosion(node.left,lvl+1):\n",
    "            return True\n",
    "        if find_explosion(node.right,lvl+1):\n",
    "            return True\n",
    "        return False\n",
    "    if isinstance(node,RegularNumber):\n",
    "        False\n",
    "        \n",
    "def find_split(node):\n",
    "    if isinstance(node,Pair):\n",
    "        if find_split(node.left):\n",
    "            return True\n",
    "        if find_split(node.right):\n",
    "            return True\n",
    "        return False\n",
    "    if isinstance(node,RegularNumber):\n",
    "        if node.value >= 10:\n",
    "            new_pair = Pair(None,None,node.parent,node.is_left_child)\n",
    "            left = RegularNumber(np.floor(node.value/2),new_pair,True)\n",
    "            right = RegularNumber(np.ceil(node.value/2),new_pair,False)\n",
    "            new_pair.right = right; new_pair.left = left\n",
    "            if node.is_left_child:\n",
    "                node.parent.left = new_pair\n",
    "            else:\n",
    "                node.parent.right = new_pair\n",
    "            return True   \n",
    "        return False\n",
    "\n",
    "def reduce(node):\n",
    "    while find_explosion(node,0) or find_split(node):\n",
    "        None\n",
    "\n",
    "def return_tree_as_list(node, lvl):\n",
    "    if isinstance(node,Pair):\n",
    "        return [return_tree_as_list(node.left,lvl+1),\n",
    "                return_tree_as_list(node.right,lvl+1)]\n",
    "    if isinstance(node,RegularNumber):\n",
    "        return str(node.value) +\"(\"+str(lvl)+\")\"\n",
    "\n",
    "\n",
    "root = parse_input(data[0])\n",
    "for i in range(1,len(data)):\n",
    "    right = parse_input(data[i])\n",
    "    left = root\n",
    "    \n",
    "    right.is_left_child = False\n",
    "    left.is_left_child = True\n",
    "    \n",
    "    root = Pair(left,right,None,None)\n",
    "\n",
    "    right.parent = root\n",
    "    left.parent = root\n",
    "\n",
    "    reduce(root)\n",
    "    \n",
    "get_magnitude(root)"
   ]
  },
  {
   "cell_type": "markdown",
   "metadata": {},
   "source": [
    "#### Puzzle 2"
   ]
  },
  {
   "cell_type": "code",
   "execution_count": 59,
   "metadata": {},
   "outputs": [
    {
     "name": "stdout",
     "output_type": "stream",
     "text": [
      "4687.0\n"
     ]
    }
   ],
   "source": [
    "max_addition = 0\n",
    "for i in range(len(data)):\n",
    "    for j in range(len(data)):\n",
    "        if i == j:\n",
    "            continue\n",
    "        \n",
    "        right = parse_input(data[i])\n",
    "        left = parse_input(data[j])\n",
    "    \n",
    "        right.is_left_child = False\n",
    "        left.is_left_child = True\n",
    "    \n",
    "        root = Pair(left,right,None,None)\n",
    "\n",
    "        right.parent = root\n",
    "        left.parent = root\n",
    "\n",
    "        reduce(root)\n",
    "        \n",
    "        max_addition= max(get_magnitude(root),max_addition)\n",
    "print(max_addition)"
   ]
  },
  {
   "cell_type": "markdown",
   "metadata": {},
   "source": [
    "## Day 19"
   ]
  },
  {
   "cell_type": "markdown",
   "metadata": {},
   "source": [
    "#### Puzzle 1"
   ]
  },
  {
   "cell_type": "code",
   "execution_count": 39,
   "metadata": {},
   "outputs": [
    {
     "data": {
      "text/plain": [
       "338"
      ]
     },
     "execution_count": 39,
     "metadata": {},
     "output_type": "execute_result"
    }
   ],
   "source": [
    "f = open('./data/day_19/input.txt', \"r\")\n",
    "data = f.read().split(\"\\n\\n\")\n",
    "scanners = np.array([np.array([list_to_int(point.split(\",\")) for point in scanner.split('---\\n')[1].splitlines()]) for scanner in data])\n",
    "\n",
    "class Scanner:\n",
    "    def __init__(self,number,beacons):\n",
    "        self.number = number\n",
    "        self.conneting = []\n",
    "        self.beacons = beacons\n",
    "scanners_obj = [Scanner(i,s) for i,s in enumerate(scanners)]\n",
    "\n",
    "def find_overlapping_beacons(scanner1,scanner2):\n",
    "    total_points = len(scanner1) + len(scanner2)\n",
    "    min_len = total_points\n",
    "    min_diff = None\n",
    "\n",
    "    for i in range(len(scanner1)):\n",
    "        for j in range(len(scanner2)):\n",
    "            diff = scanner1[i] - scanner2[j]\n",
    "            new_len = len(np.unique(np.concatenate(((scanner1 - diff),scanner2)),axis=0))\n",
    "            if new_len < min_len:\n",
    "                min_len = new_len\n",
    "                min_diff = diff\n",
    "\n",
    "    return total_points - min_len, min_diff\n",
    "\n",
    "\n",
    "# fnding all 3x3 rotation matrices\n",
    "permutations_three = list(permutations(range(3)))\n",
    "flips_diag = [[1,1,1],[-1,-1,-1],[1,-1,-1],[-1,-1,1],[-1,1,-1],[-1,1,1],[1,-1,1],[1,1,-1]]\n",
    "flips = [np.diag(m) for m in flips_diag]\n",
    "rotations = []\n",
    "for val in flips:\n",
    "    for perm in permutations_three:\n",
    "        if np.linalg.det(val[perm, :]) == 1:\n",
    "            rotations.append(val[perm, :])\n",
    "\n",
    "# finding scanners relative position\n",
    "for i,j in combinations(range(len(scanners)),2):\n",
    "    for rotation in rotations:\n",
    "        rotated_scanner_j = np.matmul(scanners[j], rotation)\n",
    "        overlapping_count, diff = find_overlapping_beacons(scanners[i],rotated_scanner_j)\n",
    "        if(overlapping_count>=12):\n",
    "            scanners_obj[i].conneting.append((diff,rotation,scanners_obj[j]))\n",
    "            r_inv = np.linalg.inv(rotation).astype(int)\n",
    "            scanners_obj[j].conneting.append((-1*diff@r_inv,r_inv,scanners_obj[i]))\n",
    "            break\n",
    "\n",
    "# finding beacons relative to a scanner\n",
    "def find_beacons(scanner=scanners_obj[0], traversed=[]):\n",
    "    if scanner.number in traversed:\n",
    "        return [[np.nan,np.nan,np.nan]]\n",
    "    \n",
    "    traversed.append(scanner.number)\n",
    "    beacons = scanner.beacons\n",
    "    \n",
    "    for diff, rotation, connection in scanner.conneting:\n",
    "        beacons = np.concatenate((beacons,(find_beacons(connection,traversed)@rotation)+diff),axis=0)\n",
    "    return beacons\n",
    "\n",
    "unique_beacons = np.unique(find_beacons(),axis=0)\n",
    "unique_beacons = unique_beacons[np.all(~np.isnan(unique_beacons),axis=1)]\n",
    "len(unique_beacons)"
   ]
  },
  {
   "cell_type": "markdown",
   "metadata": {},
   "source": [
    "#### Puzzle 2"
   ]
  },
  {
   "cell_type": "code",
   "execution_count": 40,
   "metadata": {},
   "outputs": [
    {
     "name": "stdout",
     "output_type": "stream",
     "text": [
      "9862\n"
     ]
    }
   ],
   "source": [
    "def find_beacons_distance(scanner,traversed):\n",
    "    if scanner.number in traversed:\n",
    "        return [[np.nan,np.nan,np.nan]]\n",
    "    \n",
    "    traversed.append(scanner.number)\n",
    "    beacons = [[0,0,0]]\n",
    "    \n",
    "    for diff, rotation, connection in scanner.conneting:\n",
    "        beacons = np.concatenate((beacons,(find_beacons_distance(connection,traversed)@rotation)+diff),axis=0)\n",
    "    return beacons\n",
    "\n",
    "# finding maxiumum distance\n",
    "max_vals = []\n",
    "for i in range(len(scanners_obj)):\n",
    "    unique_beacons = np.unique(find_beacons_distance(scanners_obj[i],[]),axis=0)\n",
    "    unique_beacons = unique_beacons[np.all(~np.isnan(unique_beacons),axis=1)]\n",
    "    max_vals.append(np.max(np.sum(np.abs(unique_beacons),axis=1)))\n",
    "    \n",
    "print(int(max(max_vals)))"
   ]
  },
  {
   "cell_type": "markdown",
   "metadata": {},
   "source": [
    "## Day 20"
   ]
  },
  {
   "cell_type": "markdown",
   "metadata": {},
   "source": [
    "#### Puzzle 1"
   ]
  },
  {
   "cell_type": "code",
   "execution_count": 73,
   "metadata": {},
   "outputs": [
    {
     "data": {
      "text/plain": [
       "4968.0"
      ]
     },
     "execution_count": 73,
     "metadata": {},
     "output_type": "execute_result"
    }
   ],
   "source": [
    "with open('./data/day_20/input.txt') as f:\n",
    "    data = f.read().splitlines()\n",
    "\n",
    "def covert_to_binary(a):\n",
    "    pixel_d = {'#':1, '.':0}\n",
    "    return [pixel_d[x] for x in a]\n",
    "\n",
    "def to_dec(xs,n=0):\n",
    "    if len(xs) == 0: \n",
    "        return 0\n",
    "    return xs[-1]*2**n + to_dec(xs[:-1],n+1)\n",
    "\n",
    "image_enhancement = {i:x for i,x in enumerate(covert_to_binary(data[0]))}\n",
    "image = np.array([covert_to_binary(x) for x in data[2:]])\n",
    "image = np.pad(image, ((110 ,110), (110, 110)), constant_values=(0))\n",
    "\n",
    "def apply_enhacement(image):\n",
    "    new_array = np.zeros((image.shape[0]-2,image.shape[0]-2))\n",
    "\n",
    "    for i in range(1,len(image)-1):\n",
    "        for j in range(1,len(image)-1):\n",
    "            new_array[i-1,j-1] = image_enhancement[to_dec(image[i-1:i+2,j-1:j+2].ravel())]\n",
    "            \n",
    "    return new_array\n",
    "        \n",
    "apply_enhacement(apply_enhacement(image)).sum()"
   ]
  },
  {
   "cell_type": "markdown",
   "metadata": {},
   "source": [
    "#### Puzzle 2"
   ]
  },
  {
   "cell_type": "code",
   "execution_count": 74,
   "metadata": {},
   "outputs": [
    {
     "data": {
      "text/plain": [
       "16793.0"
      ]
     },
     "execution_count": 74,
     "metadata": {},
     "output_type": "execute_result"
    }
   ],
   "source": [
    "new_image = image\n",
    "for i in range(50):\n",
    "    new_image = apply_enhacement(new_image)\n",
    "    \n",
    "new_image.sum()"
   ]
  },
  {
   "cell_type": "markdown",
   "metadata": {},
   "source": [
    "## Day 21"
   ]
  },
  {
   "cell_type": "markdown",
   "metadata": {},
   "source": [
    "#### Puzzle 1"
   ]
  },
  {
   "cell_type": "code",
   "execution_count": 76,
   "metadata": {},
   "outputs": [
    {
     "data": {
      "text/plain": [
       "920580"
      ]
     },
     "execution_count": 76,
     "metadata": {},
     "output_type": "execute_result"
    }
   ],
   "source": [
    "with open('./data/day_21/input.txt') as f:\n",
    "    data = f.read().splitlines()\n",
    "\n",
    "player_pos = [int(player[-1]) for player in data]\n",
    "\n",
    "class Player:\n",
    "    def __init__(self, position):\n",
    "        self.position = position - 1\n",
    "        self.score = 0\n",
    "        \n",
    "    def move(self,amount):\n",
    "        self.position = (self.position + amount) % 10\n",
    "        self.score += self.position + 1\n",
    "        \n",
    "    def has_won(self):\n",
    "        return(self.score >= 1000)\n",
    "\n",
    "class DeterministicDice:\n",
    "    def __init__(self):\n",
    "        self.iter = -1\n",
    "        self.rollcount = 0\n",
    "        \n",
    "    def roll(self):\n",
    "        self.iter = (self.iter + 1) % 100\n",
    "        self.rollcount += 1\n",
    "        return(self.iter + 1)\n",
    "\n",
    "player1 = Player(player_pos[0])\n",
    "player2 = Player(player_pos[1])\n",
    "dice = DeterministicDice()\n",
    "\n",
    "while not player1.has_won() and not player2.has_won():\n",
    "    player1.move(dice.roll()+dice.roll()+dice.roll())\n",
    "    if player1.has_won():\n",
    "        break\n",
    "    player2.move(dice.roll()+dice.roll()+dice.roll())\n",
    "    \n",
    "dice.rollcount*min(player1.score,player2.score)"
   ]
  },
  {
   "cell_type": "markdown",
   "metadata": {},
   "source": [
    "#### Puzzle 2"
   ]
  },
  {
   "cell_type": "code",
   "execution_count": 77,
   "metadata": {},
   "outputs": [
    {
     "data": {
      "text/plain": [
       "647920021341197"
      ]
     },
     "execution_count": 77,
     "metadata": {},
     "output_type": "execute_result"
    }
   ],
   "source": [
    "game_state = {}\n",
    "game_state_2 = {}\n",
    "\n",
    "def move(pos,n):\n",
    "    return ((pos-1 + n) % 10) + 1\n",
    "\n",
    "def update_score(pos,n,turn):\n",
    "    if turn % 3 == 2:\n",
    "        return move(pos,n)\n",
    "    else:\n",
    "        return 0\n",
    "\n",
    "def play(pos1,pos2,score1=0,score2=0,turn=0):\n",
    "    wins = 0\n",
    "    \n",
    "    if (turn%3)==0:\n",
    "        if ((turn//3)%2)==0:\n",
    "            if (pos1,pos2,score1,score2) in game_state:\n",
    "                return game_state[(pos1,pos2,score1,score2)]\n",
    "        else:\n",
    "            if (pos1,pos2,score1,score2) in game_state_2:\n",
    "                return game_state_2[(pos1,pos2,score1,score2)]\n",
    "\n",
    "        if score1 >= 21:\n",
    "            return 1\n",
    "        if score2 >= 21:\n",
    "            return 0\n",
    "        \n",
    "    \n",
    "    if ((turn//3)%2)==0:\n",
    "        wins += play(move(pos1,1),pos2,score1+update_score(pos1,1,turn),score2,turn+1)\n",
    "        wins += play(move(pos1,2),pos2,score1+update_score(pos1,2,turn),score2,turn+1)\n",
    "        wins += play(move(pos1,3),pos2,score1+update_score(pos1,3,turn),score2,turn+1)\n",
    "    else:\n",
    "        wins += play(pos1,move(pos2,1),score1,score2+update_score(pos2,1,turn),turn+1)\n",
    "        wins += play(pos1,move(pos2,2),score1,score2+update_score(pos2,2,turn),turn+1)\n",
    "        wins += play(pos1,move(pos2,3),score1,score2+update_score(pos2,3,turn),turn+1)\n",
    "    \n",
    "    \n",
    "    if (turn%3)==0:\n",
    "        if ((turn//3)%2)==0:\n",
    "            game_state[(pos1,pos2,score1,score2)] = wins\n",
    "        else:\n",
    "            game_state_2[(pos1,pos2,score1,score2)] = wins\n",
    "    return wins\n",
    "\n",
    "play(player_pos[0],player_pos[1])"
   ]
  },
  {
   "cell_type": "markdown",
   "metadata": {},
   "source": [
    "## Day 22"
   ]
  },
  {
   "cell_type": "markdown",
   "metadata": {},
   "source": [
    "#### Puzzle 1"
   ]
  },
  {
   "cell_type": "code",
   "execution_count": 78,
   "metadata": {},
   "outputs": [
    {
     "data": {
      "text/plain": [
       "587785.0"
      ]
     },
     "execution_count": 78,
     "metadata": {},
     "output_type": "execute_result"
    }
   ],
   "source": [
    "with open('./data/day_22/input.txt') as f:\n",
    "    data = f.read().splitlines()\n",
    "day_22_input = [line.split(\" \") for line in data]\n",
    "day_22_input = [(switch,np.array([list_to_int(c[2:].split(\"..\")) for c in line.split(\",\")])) for switch,line in day_22_input]\n",
    "\n",
    "def to_countinous(xs):\n",
    "    return (xs[0]-0.5,xs[1]+0.5)\n",
    "\n",
    "class Cube:\n",
    "    def __init__(self, x,y,z,on):\n",
    "        self.x = x\n",
    "        self.y = y\n",
    "        self.z = z\n",
    "        self.on = on\n",
    "        self.children = []\n",
    "        \n",
    "    def add_intersection(self,cube,on):\n",
    "        for child in self.children:\n",
    "            child.add_intersection(cube,-1*on)\n",
    "        self.intersection(cube,on)\n",
    "        \n",
    "    def get_area(self):\n",
    "        my_area = self.on*(self.x[1]-self.x[0])*(self.y[1]-self.y[0])*(self.z[1]-self.z[0])\n",
    "        for child in self.children:\n",
    "            my_area += child.get_area() \n",
    "        return my_area\n",
    "    \n",
    "    def intersection(self,cube,on):\n",
    "        x = get_line_intersection(self.x,cube.x)\n",
    "        y = get_line_intersection(self.y,cube.y)\n",
    "        z = get_line_intersection(self.z,cube.z)\n",
    "\n",
    "        if x == None or y == None or z == None:\n",
    "            return\n",
    "        return self.children.append(Cube(x,y,z,on))\n",
    "\n",
    "                             \n",
    "def get_line_intersection(line1,line2):\n",
    "    points = (line1[0],line1[1],line2[0],line2[1])\n",
    "    sorted_points = sorted(points)\n",
    "\n",
    "    if (sorted_points[0] == line2[0] and sorted_points[1] == line2[1]):\n",
    "        return None\n",
    "    if (sorted_points[0] == line1[0] and sorted_points[1] == line1[1]):\n",
    "        return None\n",
    "    else:\n",
    "        return (sorted_points[1],sorted_points[2])\n",
    "    return None\n",
    "\n",
    "class CubeSpace:\n",
    "    def __init__(self):\n",
    "        self.cubes = []\n",
    "        \n",
    "    def addCube(self,cube):\n",
    "        [c1.add_intersection(cube,-1) for c1 in self.cubes]\n",
    "        self.cubes.append(cube)\n",
    "        \n",
    "    def addOffCube(self,cube):\n",
    "        [c1.add_intersection(cube,-1) for c1 in self.cubes]\n",
    "        \n",
    "def get_cubes_on(data):\n",
    "    cube_space = CubeSpace()\n",
    "\n",
    "    for switch,coords in data:\n",
    "\n",
    "        x = to_countinous(coords[0])\n",
    "        y = to_countinous(coords[1])\n",
    "        z = to_countinous(coords[2])\n",
    "\n",
    "        if switch == 'on':\n",
    "            cube_space.addCube(Cube(x,y,z,1))\n",
    "        else:\n",
    "            cube_space.addOffCube(Cube(x,y,z,-1))\n",
    "\n",
    "    return sum([c.get_area() for c in cube_space.cubes])\n",
    "\n",
    "get_cubes_on(day_22_input[:20])"
   ]
  },
  {
   "cell_type": "markdown",
   "metadata": {},
   "source": [
    "#### Puzzle 2"
   ]
  },
  {
   "cell_type": "code",
   "execution_count": 79,
   "metadata": {},
   "outputs": [
    {
     "data": {
      "text/plain": [
       "1167985679908143.0"
      ]
     },
     "execution_count": 79,
     "metadata": {},
     "output_type": "execute_result"
    }
   ],
   "source": [
    "get_cubes_on(day_22_input)"
   ]
  },
  {
   "cell_type": "markdown",
   "metadata": {},
   "source": [
    "## Day 23"
   ]
  },
  {
   "cell_type": "markdown",
   "metadata": {},
   "source": [
    "#### Puzzle 1"
   ]
  },
  {
   "cell_type": "code",
   "execution_count": 66,
   "metadata": {},
   "outputs": [
    {
     "data": {
      "text/plain": [
       "14346"
      ]
     },
     "execution_count": 66,
     "metadata": {},
     "output_type": "execute_result"
    }
   ],
   "source": [
    "AMBER = \"A\"\n",
    "BRONZE = \"B\"\n",
    "COPPER = \"C\"\n",
    "DESSERT = \"D\"\n",
    "HALLWAY = \"H\"\n",
    "HALLWAY_ADJOINING = \"HA\"\n",
    "costs = {AMBER:1,BRONZE:10,COPPER:100,DESSERT:1000}\n",
    "\n",
    "class Cell:\n",
    "    def __init__(self,cell_type):\n",
    "        self.cell_type = cell_type\n",
    "        self.adjoining = []\n",
    "        self.amphipod = None\n",
    "        \n",
    "    def __str__(self):\n",
    "        return self.cell_type\n",
    "    \n",
    "class Amphipod:\n",
    "    def __init__(self, amphipod_type):\n",
    "        self.amphipod_type = amphipod_type\n",
    "        self.has_moved_to_hallway = False\n",
    "        self.cell = None\n",
    "        self.move_count = 0\n",
    "        \n",
    "    def set_state(self,cell,has_moved_to_hallway,move_count):\n",
    "        self.cell = cell\n",
    "        cell.amphipod = self\n",
    "        self.has_moved_to_hallway = has_moved_to_hallway\n",
    "        self.move_count = move_count\n",
    "        \n",
    "    def move(self,cell,n):\n",
    "        self.cell.amphipod = None\n",
    "        cell.amphipod = self\n",
    "        self.cell = cell\n",
    "        self.has_moved_to_hallway = True\n",
    "        self.move_count += 1\n",
    "    \n",
    "    def __str__(self):\n",
    "        return self.amphipod_type[0] + \":\" + str(self.has_moved_to_hallway)[0]\n",
    "\n",
    "class Board:\n",
    "    def __init__(self, is_part_one):\n",
    "        self.cells = []\n",
    "        self.is_part_one = is_part_one\n",
    "        self.boroughs = {}\n",
    "        left_most_cell = Cell(HALLWAY)\n",
    "        self.cells.append(left_most_cell)\n",
    "\n",
    "        previous_cell = left_most_cell\n",
    "        for i in range(1,11):\n",
    "            current_cell = Cell(HALLWAY)\n",
    "\n",
    "            if i%2 == 0 and i != 10:\n",
    "                current_cell = Cell(HALLWAY_ADJOINING)\n",
    "\n",
    "            previous_cell.adjoining.append(current_cell)\n",
    "            current_cell.adjoining.append(previous_cell)\n",
    "            self.cells.append(current_cell)\n",
    "            previous_cell = current_cell\n",
    "\n",
    "\n",
    "        for burrough,i in zip([AMBER,BRONZE,COPPER,DESSERT],[2,4,6,8]):\n",
    "            burrough_cell = Cell(burrough)\n",
    "            burrough_cell_2 = Cell(burrough)\n",
    "            \n",
    "            self.cells.append(burrough_cell)\n",
    "            self.cells.append(burrough_cell_2)\n",
    "\n",
    "            self.cells[i].adjoining.append(burrough_cell)\n",
    "            burrough_cell.adjoining.append(self.cells[i])\n",
    "\n",
    "            burrough_cell.adjoining.append(burrough_cell_2)\n",
    "            burrough_cell_2.adjoining.append(burrough_cell)\n",
    "\n",
    "            if is_part_one:\n",
    "                self.boroughs[burrough] = [burrough_cell,burrough_cell_2]\n",
    "            else:\n",
    "                burrough_cell_3 = Cell(burrough)\n",
    "                burrough_cell_4 = Cell(burrough)\n",
    "                self.boroughs[burrough] = [burrough_cell,burrough_cell_2,burrough_cell_3,burrough_cell_4]\n",
    "                \n",
    "                self.cells.append(burrough_cell_3)\n",
    "                self.cells.append(burrough_cell_4)\n",
    "                \n",
    "                burrough_cell_2.adjoining.append(burrough_cell_3)\n",
    "                burrough_cell_3.adjoining.append(burrough_cell_2)\n",
    "            \n",
    "                burrough_cell_3.adjoining.append(burrough_cell_4)\n",
    "                burrough_cell_4.adjoining.append(burrough_cell_3)\n",
    "                  \n",
    "    def set_cell(self,cell,amphipod):\n",
    "        cell.amphipod = amphipod\n",
    "        amphipod.cell = cell\n",
    "                \n",
    "    def add_amphipod(self, burrow,amphipod):\n",
    "        result = list(filter(lambda cell: cell.cell_type == burrow and cell.amphipod == None, self.cells))\n",
    "        if len(result) == 0:\n",
    "            raise ValueError('Burough is full')\n",
    "        self.set_cell(result[-1],amphipod)\n",
    "            \n",
    "\n",
    "class BoardGame:\n",
    "    def __init__(self,is_part_one):\n",
    "        self.amphipods = []\n",
    "        if is_part_one:\n",
    "            self.borough_length = 2\n",
    "        else:\n",
    "            self.borough_length = 4\n",
    "        self.board = Board(is_part_one)\n",
    "        self.solutions = 999999\n",
    "        self.costs = {}\n",
    "        \n",
    "    def add_amphipod(self,amphipod_type,burrow):\n",
    "        new_amphipod = Amphipod(amphipod_type)\n",
    "        self.amphipods.append(new_amphipod)\n",
    "        self.board.add_amphipod(burrow,new_amphipod)\n",
    "        \n",
    "    def get_game_state(self):\n",
    "        return {amphipod: {'cell': amphipod.cell, 'hallway': amphipod.has_moved_to_hallway, 'move_count': amphipod.move_count}\n",
    "                for amphipod in self.amphipods}\n",
    "    \n",
    "    def set_game_state(self,state):\n",
    "        for amphipod in self.amphipods:\n",
    "            amphipod.cell.amphipod = None\n",
    "        for amphipod, state in state.items():\n",
    "            amphipod.set_state(state['cell'],state['hallway'],state['move_count'] )\n",
    "        return\n",
    "        \n",
    "    def find_valid_moves(self, searched_cells, cell, amphipod, n=1):\n",
    "        \n",
    "        next_cells = []\n",
    "        \n",
    "        if amphipod.move_count == 2:\n",
    "            return []\n",
    "        \n",
    "        for adjoining in cell.adjoining:\n",
    "            if adjoining in searched_cells:\n",
    "                continue\n",
    "            searched_cells.append(adjoining)\n",
    "            if adjoining.amphipod == None:\n",
    "                if adjoining.cell_type == HALLWAY and not amphipod.has_moved_to_hallway:\n",
    "                    next_cells = next_cells + [(adjoining,n)] + self.find_valid_moves(searched_cells,adjoining,amphipod,n+1)\n",
    "                    continue\n",
    "                if adjoining.cell_type == amphipod.amphipod_type and self.check_borough_validity(amphipod.amphipod_type, amphipod):\n",
    "                        i = 0\n",
    "                        while i<self.borough_length and self.board.boroughs[adjoining.cell_type][i].amphipod == None:\n",
    "                            i+=1\n",
    "                            \n",
    "                        if adjoining == self.board.boroughs[adjoining.cell_type][i-1]:\n",
    "                            next_cells = next_cells + [(adjoining,n)] + self.find_valid_moves(searched_cells,adjoining,amphipod,n+1)\n",
    "                            \n",
    "                next_cells = next_cells + self.find_valid_moves(searched_cells,adjoining,amphipod,n+1)\n",
    "\n",
    "                        \n",
    "        \n",
    "        return next_cells\n",
    "    \n",
    "    def check_borough_validity(self,borough,amphipod):\n",
    "        for i in range(self.borough_length):\n",
    "            if self.board.boroughs[borough][i].amphipod == amphipod:\n",
    "                continue\n",
    "            if (self.board.boroughs[borough][i].amphipod != None) and (self.board.boroughs[borough][i].amphipod.amphipod_type != borough):\n",
    "                    return False\n",
    "        return True\n",
    "    \n",
    "    \n",
    "    def check_valid_solution(self):\n",
    "        for cells in self.board.boroughs.values():\n",
    "            for i in range(self.borough_length):\n",
    "                if cells[i].amphipod == None:\n",
    "                    return False\n",
    "                if cells[i].amphipod.amphipod_type !=  cells[i].cell_type:\n",
    "                    return False\n",
    "        return True\n",
    "        \n",
    "            \n",
    "    def find_moves(self,cost=0):\n",
    "        if cost >= self.solutions:\n",
    "            return math.inf\n",
    "        \n",
    "        if self.check_valid_solution():\n",
    "            self.solutions = min(self.solutions,cost)\n",
    "            return cost\n",
    " \n",
    "        \n",
    "        state = self.get_game_state()\n",
    "        state_t = tuple((k,tuple(v.items())) for k,v in state.items())\n",
    "        \n",
    "        if state_t in self.costs.keys():\n",
    "            return self.costs[state_t]\n",
    "        \n",
    "        move_costs = [math.inf]\n",
    "        for amphipod in self.amphipods:\n",
    "            moves = self.find_valid_moves([],amphipod.cell, amphipod)\n",
    "            for cell,n in moves:\n",
    "                amphipod.move(cell,n)\n",
    "                move_costs.append(self.find_moves(cost+n*costs[amphipod.amphipod_type]))\n",
    "                self.set_game_state(state)\n",
    "\n",
    "        self.costs[state_t] = min(move_costs)        \n",
    "        return self.costs[state_t]\n",
    "\n",
    "board_game = BoardGame(True)\n",
    "board_game.add_amphipod(COPPER,AMBER)\n",
    "board_game.add_amphipod(DESSERT,AMBER)\n",
    "\n",
    "board_game.add_amphipod(AMBER,BRONZE)\n",
    "board_game.add_amphipod(AMBER,BRONZE)\n",
    "\n",
    "\n",
    "board_game.add_amphipod(BRONZE,COPPER)\n",
    "board_game.add_amphipod(COPPER,COPPER)\n",
    "\n",
    "board_game.add_amphipod(BRONZE,DESSERT)\n",
    "board_game.add_amphipod(DESSERT,DESSERT)\n",
    "\n",
    "board_game.find_moves()"
   ]
  },
  {
   "cell_type": "markdown",
   "metadata": {},
   "source": [
    "#### Puzzle 2"
   ]
  },
  {
   "cell_type": "code",
   "execution_count": 67,
   "metadata": {},
   "outputs": [
    {
     "data": {
      "text/plain": [
       "48984"
      ]
     },
     "execution_count": 67,
     "metadata": {},
     "output_type": "execute_result"
    }
   ],
   "source": [
    "board_game = BoardGame(False)\n",
    "board_game.add_amphipod(COPPER,AMBER)\n",
    "board_game.add_amphipod(DESSERT,AMBER)\n",
    "board_game.add_amphipod(DESSERT,AMBER)\n",
    "board_game.add_amphipod(DESSERT,AMBER)\n",
    "\n",
    "board_game.add_amphipod(AMBER,BRONZE)\n",
    "board_game.add_amphipod(BRONZE,BRONZE)\n",
    "board_game.add_amphipod(COPPER,BRONZE)\n",
    "board_game.add_amphipod(AMBER,BRONZE)\n",
    "\n",
    "\n",
    "board_game.add_amphipod(BRONZE,COPPER)\n",
    "board_game.add_amphipod(AMBER,COPPER)\n",
    "board_game.add_amphipod(BRONZE,COPPER)\n",
    "board_game.add_amphipod(COPPER,COPPER)\n",
    "\n",
    "board_game.add_amphipod(BRONZE,DESSERT)\n",
    "board_game.add_amphipod(COPPER,DESSERT)\n",
    "board_game.add_amphipod(AMBER,DESSERT)\n",
    "board_game.add_amphipod(DESSERT,DESSERT)\n",
    "\n",
    "board_game.find_moves()"
   ]
  },
  {
   "cell_type": "markdown",
   "metadata": {},
   "source": [
    "## Day 24"
   ]
  },
  {
   "cell_type": "markdown",
   "metadata": {},
   "source": [
    "#### Puzzle 1"
   ]
  },
  {
   "cell_type": "code",
   "execution_count": 61,
   "metadata": {},
   "outputs": [
    {
     "data": {
      "text/plain": [
       "52926995971999"
      ]
     },
     "execution_count": 61,
     "metadata": {},
     "output_type": "execute_result"
    }
   ],
   "source": [
    "f = open('./data/day_24/input.txt', \"r\")\n",
    "data = f.read().splitlines()\n",
    "commands = [tuple(command.split(\" \")) for command in data]\n",
    "\n",
    "def get(state,var):\n",
    "    if var == \"w\":\n",
    "        return state[0]\n",
    "    if var == \"x\":\n",
    "        return state[1]\n",
    "    if var == \"y\":\n",
    "        return state[2]\n",
    "    if var == \"z\":\n",
    "        return state[3]\n",
    "    return int(var)\n",
    "\n",
    "def get_idx(state,var):\n",
    "    if var == \"w\":\n",
    "        return 0\n",
    "    if var == \"x\":\n",
    "        return 1\n",
    "    if var == \"y\":\n",
    "        return 2\n",
    "    if var == \"z\":\n",
    "        return 3\n",
    "    \n",
    "def replace_at_index(tup, ix, val):\n",
    "    return tup[:ix] + (val,) + tup[ix+1:]\n",
    "\n",
    "def find_model_number(i, state, number, highest, searched):\n",
    "    if abs(state[3]) > 10**7:\n",
    "        return False\n",
    "    \n",
    "    if (i == len(commands)):\n",
    "        if state[3] == 0:\n",
    "            return int(number)\n",
    "        return False\n",
    "    \n",
    "    if state in searched[i]:\n",
    "        return False\n",
    "    \n",
    "    searched[i][state] = True\n",
    "    \n",
    "    if commands[i][0] == \"inp\":\n",
    "        if not highest:\n",
    "            for j in range(1,10):\n",
    "                number_found = find_model_number(i+1,(j,*state[1:]), number+str(j), highest, searched)\n",
    "                if number_found:\n",
    "                    return number_found\n",
    "        else:\n",
    "            for j in reversed(range(1,10)):\n",
    "                number_found = find_model_number(i+1,(j,*state[1:]), number+str(j), highest, searched)\n",
    "                if number_found:\n",
    "                    return number_found\n",
    "        return False\n",
    "    \n",
    "    a = get(state,commands[i][1])\n",
    "    a_idx = get_idx(state,commands[i][1])\n",
    "    b = get(state,commands[i][2])\n",
    "    a_new = None\n",
    "    \n",
    "    if commands[i][0] == \"add\":\n",
    "        a_new = a + b\n",
    "    elif commands[i][0] == \"mul\":\n",
    "        a_new = a * b\n",
    "    elif commands[i][0] == \"div\":\n",
    "        if b == 0:\n",
    "            return False\n",
    "        a_new = a // b\n",
    "    elif commands[i][0] == \"mod\":\n",
    "        if b<=0 or a<0:\n",
    "            return False\n",
    "        a_new = a % b\n",
    "    elif commands[i][0] == \"eql\":\n",
    "        a_new = int(a == b)\n",
    "    \n",
    "    return find_model_number(i+1,replace_at_index(state,a_idx,a_new), number, highest, searched)\n",
    "    \n",
    "find_model_number(0,(0,0,0,0),\"\",True, defaultdict(lambda: {}))"
   ]
  },
  {
   "cell_type": "markdown",
   "metadata": {},
   "source": [
    "#### Puzzle 2"
   ]
  },
  {
   "cell_type": "code",
   "execution_count": 55,
   "metadata": {},
   "outputs": [
    {
     "data": {
      "text/plain": [
       "11811951311485"
      ]
     },
     "execution_count": 55,
     "metadata": {},
     "output_type": "execute_result"
    }
   ],
   "source": [
    "find_model_number(0,(0,0,0,0),\"\",False, defaultdict(lambda: {}))"
   ]
  },
  {
   "cell_type": "markdown",
   "metadata": {},
   "source": [
    "## Day 25"
   ]
  },
  {
   "cell_type": "markdown",
   "metadata": {},
   "source": [
    "#### Puzzle 1"
   ]
  },
  {
   "cell_type": "code",
   "execution_count": 70,
   "metadata": {},
   "outputs": [
    {
     "name": "stdout",
     "output_type": "stream",
     "text": [
      "380\n"
     ]
    }
   ],
   "source": [
    "import copy\n",
    "\n",
    "f = open('./data/day_25/input.txt', \"r\")\n",
    "data = f.read().splitlines()\n",
    "trench = [list(line) for line in data]\n",
    "\n",
    "x_max = len(trench[0])\n",
    "y_max = len(trench)\n",
    "\n",
    "def move_east(i,j,trench,new_trench):\n",
    "    if trench[i][j] == '>':\n",
    "        if trench[i][(j+1)%x_max] == '.':\n",
    "            new_trench[i][(j+1)%x_max] = '>'\n",
    "            new_trench[i][j] = '.'\n",
    "            return 1\n",
    "    return 0\n",
    "\n",
    "def move_south(i,j,trench,new_trench):\n",
    "    if trench[i][j] == 'v':\n",
    "        if trench[(i+1)%y_max][j] == '.':\n",
    "            new_trench[(i+1)%y_max][j] = 'v'\n",
    "            new_trench[i][j] = '.'\n",
    "            return 1\n",
    "    return 0\n",
    "\n",
    "count = 1\n",
    "iterations = 0\n",
    "while count > 0: \n",
    "    count = 0\n",
    "    iterations+=1\n",
    "    new_trench = copy.deepcopy(trench)\n",
    "    for i in range(y_max):\n",
    "        for j in range(x_max):\n",
    "            count+=move_east(i,j,trench,new_trench)\n",
    "    trench = copy.deepcopy(new_trench)\n",
    "    new_trench = copy.deepcopy(trench)\n",
    "    for i in range(y_max):\n",
    "        for j in range(x_max):\n",
    "            count+=move_south(i,j,trench,new_trench)\n",
    "    trench = copy.deepcopy(new_trench)\n",
    "\n",
    "print(iterations)"
   ]
  }
 ],
 "metadata": {
  "kernelspec": {
   "display_name": "Python 3",
   "language": "python",
   "name": "python3"
  },
  "language_info": {
   "codemirror_mode": {
    "name": "ipython",
    "version": 3
   },
   "file_extension": ".py",
   "mimetype": "text/x-python",
   "name": "python",
   "nbconvert_exporter": "python",
   "pygments_lexer": "ipython3",
   "version": "3.8.3"
  }
 },
 "nbformat": 4,
 "nbformat_minor": 2
}
