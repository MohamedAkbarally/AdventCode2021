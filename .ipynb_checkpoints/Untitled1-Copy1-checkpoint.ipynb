{
 "cells": [
  {
   "cell_type": "code",
   "execution_count": 2,
   "metadata": {},
   "outputs": [],
   "source": [
    "import numpy as np\n",
    "def list_to_int(str_list):\n",
    "    return [int(x) for x in str_list]\n",
    "\n",
    "with open('./input2.txt') as f:\n",
    "    data = f.read().splitlines()\n"
   ]
  },
  {
   "cell_type": "code",
   "execution_count": 9,
   "metadata": {},
   "outputs": [],
   "source": [
    "from collections import defaultdict\n"
   ]
  },
  {
   "cell_type": "code",
   "execution_count": 29,
   "metadata": {},
   "outputs": [
    {
     "data": {
      "text/plain": [
       "['ln-nr',\n",
       " 'ln-wy',\n",
       " 'fl-XI',\n",
       " 'qc-start',\n",
       " 'qq-wy',\n",
       " 'qc-ln',\n",
       " 'ZD-nr',\n",
       " 'qc-YN',\n",
       " 'XI-wy',\n",
       " 'ln-qq',\n",
       " 'ln-XI',\n",
       " 'YN-start',\n",
       " 'qq-XI',\n",
       " 'nr-XI',\n",
       " 'start-qq',\n",
       " 'qq-qc',\n",
       " 'end-XI',\n",
       " 'qq-YN',\n",
       " 'ln-YN',\n",
       " 'end-wy',\n",
       " 'qc-nr',\n",
       " 'end-nr']"
      ]
     },
     "execution_count": 29,
     "metadata": {},
     "output_type": "execute_result"
    }
   ],
   "source": [
    "data"
   ]
  },
  {
   "cell_type": "code",
   "execution_count": 11,
   "metadata": {},
   "outputs": [
    {
     "ename": "SyntaxError",
     "evalue": "invalid syntax (1394054084.py, line 1)",
     "output_type": "error",
     "traceback": [
      "\u001b[0;36m  File \u001b[0;32m\"/var/folders/q8/4bpfql1118qc7nvqfktq8c3c0000gn/T/ipykernel_3762/1394054084.py\"\u001b[0;36m, line \u001b[0;32m1\u001b[0m\n\u001b[0;31m    [d[x.split(\"-\")[0]] = d[x.split(\"-\")[0]].append(x.split(\"-\")[1]) for x in data]\u001b[0m\n\u001b[0m                        ^\u001b[0m\n\u001b[0;31mSyntaxError\u001b[0m\u001b[0;31m:\u001b[0m invalid syntax\n"
     ]
    }
   ],
   "source": [
    "[d[x.split(\"-\")[0]] = d[x.split(\"-\")[0]].append(x.split(\"-\")[1]) for x in data]"
   ]
  },
  {
   "cell_type": "code",
   "execution_count": 47,
   "metadata": {},
   "outputs": [],
   "source": [
    "d = {}\n",
    "for item in data:\n",
    "    path = item.split(\"-\")\n",
    "    if path[0] in d.keys():\n",
    "        s = d[path[0]]\n",
    "        s.append(path[1])\n",
    "        d[path[0]] = s\n",
    "    else:\n",
    "        d[path[0]] = [path[1]]\n",
    "        \n",
    "for item in data:\n",
    "    path = item.split(\"-\")\n",
    "    if path[1] in d.keys():\n",
    "        s = d[path[1]]\n",
    "        s.append(path[0])\n",
    "        d[path[1]] = s\n",
    "    else:\n",
    "        d[path[1]] = [path[0]]"
   ]
  },
  {
   "cell_type": "code",
   "execution_count": 36,
   "metadata": {},
   "outputs": [
    {
     "data": {
      "text/plain": [
       "{'ln': ['nr', 'wy', 'qq', 'XI', 'YN', 'qc'],\n",
       " 'fl': ['XI'],\n",
       " 'qc': ['start', 'ln', 'YN', 'nr', 'qq'],\n",
       " 'qq': ['wy', 'XI', 'qc', 'YN', 'ln', 'start'],\n",
       " 'ZD': ['nr'],\n",
       " 'XI': ['wy', 'fl', 'ln', 'qq', 'nr', 'end'],\n",
       " 'YN': ['start', 'qc', 'qq', 'ln'],\n",
       " 'nr': ['XI', 'ln', 'ZD', 'qc', 'end'],\n",
       " 'start': ['qq', 'qc', 'YN'],\n",
       " 'end': ['XI', 'wy', 'nr'],\n",
       " 'wy': ['ln', 'qq', 'XI', 'end']}"
      ]
     },
     "execution_count": 36,
     "metadata": {},
     "output_type": "execute_result"
    }
   ],
   "source": [
    "d"
   ]
  },
  {
   "cell_type": "code",
   "execution_count": 75,
   "metadata": {},
   "outputs": [
    {
     "data": {
      "text/plain": [
       "4773"
      ]
     },
     "execution_count": 75,
     "metadata": {},
     "output_type": "execute_result"
    }
   ],
   "source": [
    "\n",
    "def findpath(path,node):\n",
    "    if node == \"end\":\n",
    "        return 1\n",
    "    \n",
    "    if node in path and node != node.upper():\n",
    "        return 0\n",
    "    \n",
    "    count = 0\n",
    "    for child in d[node]:\n",
    "        count+=findpath([*path,node],child)\n",
    "    return count\n",
    "        \n",
    "findpath([],\"start\")"
   ]
  },
  {
   "cell_type": "code",
   "execution_count": 78,
   "metadata": {},
   "outputs": [
    {
     "data": {
      "text/plain": [
       "116985"
      ]
     },
     "execution_count": 78,
     "metadata": {},
     "output_type": "execute_result"
    }
   ],
   "source": [
    "\n",
    "def findpath(path,node,visited_small_twice):\n",
    "    \n",
    "    if node == \"end\":\n",
    "        return 1\n",
    "    \n",
    "    \n",
    "    visited_small_twice_now = visited_small_twice\n",
    "    \n",
    "    if node in path and node != node.upper():\n",
    "        if visited_small_twice == False and node != \"start\":\n",
    "            visited_small_twice_now = True\n",
    "        else:\n",
    "            return 0\n",
    "    \n",
    "    \n",
    "    count = 0\n",
    "    for child in d[node]:\n",
    "        count+=findpath([*path,node],child,visited_small_twice_now)\n",
    "    return count\n",
    "        \n",
    "findpath([],\"start\",False)"
   ]
  }
 ],
 "metadata": {
  "kernelspec": {
   "display_name": "Python 3",
   "language": "python",
   "name": "python3"
  },
  "language_info": {
   "codemirror_mode": {
    "name": "ipython",
    "version": 3
   },
   "file_extension": ".py",
   "mimetype": "text/x-python",
   "name": "python",
   "nbconvert_exporter": "python",
   "pygments_lexer": "ipython3",
   "version": "3.8.3"
  }
 },
 "nbformat": 4,
 "nbformat_minor": 5
}
