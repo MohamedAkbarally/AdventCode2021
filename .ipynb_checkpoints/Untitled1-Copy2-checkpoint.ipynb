{
 "cells": [
  {
   "cell_type": "code",
   "execution_count": 3,
   "metadata": {},
   "outputs": [],
   "source": [
    "import numpy as np\n",
    "from collections import defaultdict\n",
    "\n",
    "def list_to_int(str_list):\n",
    "    return [int(x) for x in str_list]\n",
    "\n",
    "with open('./data/day_13/input.txt') as f:\n",
    "    data = f.read().splitlines()"
   ]
  },
  {
   "cell_type": "code",
   "execution_count": 4,
   "metadata": {},
   "outputs": [],
   "source": [
    "coords = data[:-13]\n",
    "instrucitons = data[-12:]"
   ]
  },
  {
   "cell_type": "code",
   "execution_count": 5,
   "metadata": {},
   "outputs": [],
   "source": [
    "x_cords = [int(x.split(\",\")[0]) for x in coords]\n",
    "y_cords = [int(x.split(\",\")[1]) for x in coords]"
   ]
  },
  {
   "cell_type": "code",
   "execution_count": 6,
   "metadata": {},
   "outputs": [
    {
     "name": "stdout",
     "output_type": "stream",
     "text": [
      "770\n",
      "649\n",
      "549\n",
      "455\n",
      "375\n",
      "318\n",
      "251\n",
      "209\n",
      "174\n",
      "143\n",
      "117\n",
      "102\n"
     ]
    }
   ],
   "source": [
    "grid = np.zeros((max(x_cords)+2,max(y_cords)+1))\n",
    "for i in range(len(x_cords)):\n",
    "    grid[x_cords[i],y_cords[i]] = 1\n",
    "\n",
    "grid = grid == True\n",
    "\n",
    "instrucitonss = [(x.split(\"=\")[0][-1],int(x.split(\"=\")[1]))  for x in instrucitons]\n",
    "\n",
    "for item in instrucitonss:\n",
    "    if item[0] == 'x':\n",
    "\n",
    "        reg = grid[item[1]+1:,:]\n",
    "        flipped = np.flip(grid[0:item[1],:],axis=0)\n",
    "        grid = np.logical_or(reg,flipped)\n",
    "        print(grid.sum())\n",
    "\n",
    "    else:\n",
    "        reg = grid[:,item[1]+1:]\n",
    "        flipped = np.flip(grid[:,0:item[1]],axis=1)\n",
    "        grid = np.logical_or(reg,flipped)\n",
    "        print(grid.sum())"
   ]
  },
  {
   "cell_type": "code",
   "execution_count": 9,
   "metadata": {},
   "outputs": [
    {
     "name": "stdout",
     "output_type": "stream",
     "text": [
      "......\n",
      "#..##.\n",
      ".##..#\n",
      "..#..#\n",
      "######\n",
      "......\n",
      ".##.#.\n",
      "#..#.#\n",
      "#..#.#\n",
      "######\n",
      "......\n",
      "...##.\n",
      "..#..#\n",
      "..#..#\n",
      "######\n",
      "......\n",
      "#.....\n",
      "#.....\n",
      "#.....\n",
      "######\n",
      "......\n",
      "#....#\n",
      "#..#.#\n",
      "#..#.#\n",
      "######\n",
      "......\n",
      ".#####\n",
      "#.....\n",
      "#.....\n",
      ".#####\n",
      "......\n",
      "...##.\n",
      "..#..#\n",
      "..#..#\n",
      "######\n",
      "......\n",
      "#....#\n",
      "#..#.#\n",
      "#..#.#\n",
      "######\n"
     ]
    }
   ],
   "source": [
    "\n",
    "my_dict = {False:\".\", True: \"#\"}\n",
    "s = np.vectorize(my_dict.get)(grid)\n",
    "for item in s:\n",
    "    print(\"\".join(item))"
   ]
  },
  {
   "cell_type": "code",
   "execution_count": null,
   "metadata": {},
   "outputs": [],
   "source": []
  }
 ],
 "metadata": {
  "kernelspec": {
   "display_name": "Python 3",
   "language": "python",
   "name": "python3"
  },
  "language_info": {
   "codemirror_mode": {
    "name": "ipython",
    "version": 3
   },
   "file_extension": ".py",
   "mimetype": "text/x-python",
   "name": "python",
   "nbconvert_exporter": "python",
   "pygments_lexer": "ipython3",
   "version": "3.8.3"
  }
 },
 "nbformat": 4,
 "nbformat_minor": 5
}
