{
 "cells": [
  {
   "cell_type": "code",
   "execution_count": 1,
   "metadata": {},
   "outputs": [],
   "source": [
    "import numpy as np\n",
    "from collections import defaultdict\n",
    "\n",
    "def list_to_int(str_list):\n",
    "    return [int(x) for x in str_list]\n",
    "\n",
    "def def_value():\n",
    "    return 0\n",
    "\n",
    "def read_input(path):\n",
    "    with open(path) as f:\n",
    "        return(f.read().split(\"\\n\")[:-1])"
   ]
  },
  {
   "cell_type": "code",
   "execution_count": 2,
   "metadata": {},
   "outputs": [],
   "source": [
    "with open('./data/day_16/input.txt') as f:\n",
    "    data = f.read().splitlines()\n",
    "    "
   ]
  },
  {
   "cell_type": "code",
   "execution_count": 3,
   "metadata": {},
   "outputs": [
    {
     "data": {
      "text/plain": [
       "False"
      ]
     },
     "execution_count": 3,
     "metadata": {},
     "output_type": "execute_result"
    }
   ],
   "source": [
    "None != None\n"
   ]
  },
  {
   "cell_type": "code",
   "execution_count": 13,
   "metadata": {},
   "outputs": [],
   "source": [
    "def count_bits(node):\n",
    "    count = len(node.bin_string)\n",
    "    for children in node.children:\n",
    "        count += count_bits(children)\n",
    "    return count\n",
    "\n",
    "get_bin = lambda x, n: format(x, 'b').zfill(n)\n",
    "\n",
    "def to_binary(string):\n",
    "    output = \"\"\n",
    "    for ele in string:\n",
    "        output += get_bin(int(ele,16),4)\n",
    "    return output\n",
    "\n",
    "def get_version_number(bin_string):\n",
    "    version = int(bin_string[0:3],2)\n",
    "    type_s = int(bin_string[3:6],2)\n",
    "    Node(bin_string)\n",
    "    print(\"version: \" + str(version))\n",
    "    print(\"type_s: \" + str(type_s))\n",
    "    \n",
    "    if type_s == 4:\n",
    "        return version\n",
    "    else:\n",
    "        length_type = int(bin_string[6])\n",
    "        \n",
    "        print(\"length: \" + str(length_type))\n",
    "    \n",
    "        if length_type == 0:\n",
    "            print(\"hello\")\n",
    "            bit_length = int(bin_string[7:7+15],2)\n",
    "            sub_packets = bin_string[7+15:]\n",
    "            print(\"bit_length: \" + str(bit_length))\n",
    "            return version + (get_version_number(sub_packets[:bit_length]))\n",
    "\n",
    "        else:\n",
    "            packets = int(bin_string[7:7+11],2)\n",
    "            sub_packets = bin_string[7+11:]\n",
    "            print(\"packets: \" + str(packets))\n",
    "            print(\"sub_packets: \" + str(sub_packets))\n",
    "            return version + (get_version_number(sub_packets))"
   ]
  },
  {
   "cell_type": "code",
   "execution_count": 14,
   "metadata": {},
   "outputs": [],
   "source": [
    "class Node:\n",
    "    def __init__(self, bin_string):\n",
    "        self.children = []\n",
    "        self.parent = None\n",
    "        self.bin_string = bin_string\n",
    "\n",
    "        \n",
    "    def get_version(self):\n",
    "        return int(self.bin_string[0:3],2)\n",
    "    \n",
    "    def get_type_id(self):\n",
    "        return int(self.bin_string[3:6],2)\n",
    "        \n",
    "    def get_literal(self):\n",
    "        return int(\"\".join([x for i, x in enumerate(self.bin_string[6:]) if i%5 !=0]),2)\n",
    "        \n",
    "    def get_bit_length(self):\n",
    "        return int(self.bin_string[7:7+15],2)\n",
    "\n",
    "    def get_packets(self):\n",
    "        return int(self.bin_string[7:7+11],2)\n",
    "\n",
    "    def get_length_type(self):\n",
    "        return int(self.bin_string[6])\n",
    "    \n",
    "    def is_statisfied(self):\n",
    "        if self.get_length_type() == 0:\n",
    "            return sum([count_bits(child) for child in self.children]) == self.get_bit_length()\n",
    "        else:\n",
    "            return len(self.children) == self.get_packets()"
   ]
  },
  {
   "cell_type": "code",
   "execution_count": 33,
   "metadata": {},
   "outputs": [
    {
     "data": {
      "text/plain": [
       "860"
      ]
     },
     "execution_count": 33,
     "metadata": {},
     "output_type": "execute_result"
    }
   ],
   "source": [
    "def traverse_graph(node):\n",
    "    if node.bin_string == '' or int(node.bin_string,2) == 0:\n",
    "        return\n",
    "        \n",
    "    if node.get_type_id() == 4:\n",
    "        idx = 6\n",
    "        while node.bin_string[idx] == '1':\n",
    "            idx += 5\n",
    "        idx+=5\n",
    "        remaining = node.bin_string[idx:]\n",
    "        node.bin_string = node.bin_string[0:idx]\n",
    "        return(remaining)\n",
    "    else:\n",
    "        remaining = \"\"\n",
    "        if node.get_length_type() == 0:\n",
    "            remaining = node.bin_string[7+15:]\n",
    "            node.bin_string = node.bin_string[:7+15]\n",
    "        else:\n",
    "            remaining = node.bin_string[7+11:]\n",
    "            node.bin_string = node.bin_string[:7+11]\n",
    "        \n",
    "        \n",
    "        while not node.is_statisfied():\n",
    "            child = Node(remaining)\n",
    "            child.parent = transmission\n",
    "            node.children.append(child)\n",
    "            remaining = traverse_graph(child)\n",
    "        return remaining\n",
    "    \n",
    "transmission = Node(to_binary(\"A059141803C0008447E897180401F82F1E60D80021D11A3DC3F300470015786935BED80A5DB5002F69B4298A60FE73BE41968F48080328D00427BCD339CC7F431253838CCEFF4A943803D251B924EC283F16D400C9CDB3180213D2D542EC01092D77381A98DA89801D241705C80180960E93469801400F0A6CEA7617318732B08C67DA48C27551C00F972830052800B08550A277416401A5C913D0043D2CD125AC4B1DB50E0802059552912E9676931530046C0141007E3D4698E20008744D89509677DBF5759F38CDC594401093FC67BACDCE66B3C87380553E7127B88ECACAD96D98F8AC9E570C015C00B8E4E33AD33632938CEB4CD8C67890C01083B800E5CBDAB2BDDF65814C01299D7E34842E85801224D52DF9824D52DF981C4630047401400042E144698B2200C4328731CA6F9CBCA5FBB798021259B7B3BBC912803879CD67F6F5F78BB9CD6A77D42F1223005B8037600042E25C158FE0008747E8F50B276116C9A2730046801F29BC854A6BF4C65F64EB58DF77C018009D640086C318870A0C01D88105A0B9803310E2045C8CF3F4E7D7880484D0040001098B51DA0980021F17A3047899585004E79CE4ABD503005E610271ED4018899234B64F64588C0129EEDFD2EFBA75E0084CC659AF3457317069A509B97FB3531003254D080557A00CC8401F8791DA13080391EA39C739EFEE5394920C01098C735D51B004A7A92F6A0953D497B504F200F2BC01792FE9D64BFA739584774847CE26006A801AC05DE180184053E280104049D10111CA006300E962005A801E2007B80182007200792E00420051E400EF980192DC8471E259245100967FF7E6F2CF25DBFA8593108D342939595454802D79550C0068A72F0DC52A7D68003E99C863D5BC7A411EA37C229A86EBBC0CB802B331FDBED13BAB92080310265296AFA1EDE8AA64A0C02C9D49966195609C0594223005B80152977996D69EE7BD9CE4C1803978A7392ACE71DA448914C527FFE140\"))\n",
    "traverse_graph(transmission)\n",
    "\n",
    "def count_version(node):\n",
    "    count = node.get_version()\n",
    "    for children in node.children:\n",
    "        count += count_version(children)\n",
    "    return count\n",
    "\n",
    "count_version(transmission)"
   ]
  },
  {
   "cell_type": "code",
   "execution_count": 490,
   "metadata": {},
   "outputs": [
    {
     "data": {
      "text/plain": [
       "56"
      ]
     },
     "execution_count": 490,
     "metadata": {},
     "output_type": "execute_result"
    }
   ],
   "source": [
    "len(to_binary(\"38006F45291200\"))"
   ]
  },
  {
   "cell_type": "code",
   "execution_count": 32,
   "metadata": {},
   "outputs": [
    {
     "name": "stdout",
     "output_type": "stream",
     "text": [
      "11 33\n",
      "22 33\n",
      "33 33\n",
      "11 33\n",
      "22 33\n",
      "33 33\n",
      "11 42\n",
      "42 42\n",
      "16 94\n",
      "42 94\n",
      "68 94\n",
      "94 94\n",
      "5317 101\n",
      "5353 101\n",
      "16 48\n",
      "32 48\n",
      "48 48\n",
      "16 120\n",
      "42 120\n",
      "53 120\n",
      "104 120\n",
      "120 120\n",
      "11 22\n",
      "22 22\n",
      "16 105\n",
      "16 67\n",
      "67 67\n",
      "16 64\n",
      "32 64\n",
      "48 64\n",
      "64 64\n",
      "11 33\n",
      "22 33\n",
      "33 33\n",
      "46 92\n",
      "92 92\n",
      "41 57\n",
      "57 57\n",
      "36 72\n",
      "72 72\n",
      "11 33\n",
      "22 33\n",
      "33 33\n",
      "61 112\n",
      "112 112\n",
      "11 33\n",
      "22 33\n",
      "33 33\n",
      "11 33\n",
      "22 33\n",
      "33 33\n",
      "6001 110\n",
      "6017 110\n",
      "21 62\n",
      "62 62\n",
      "11 33\n",
      "22 33\n",
      "33 33\n",
      "7914 157\n",
      "7945 157\n",
      "11 33\n",
      "22 33\n",
      "33 33\n",
      "11 33\n",
      "22 33\n",
      "33 33\n",
      "3701 102\n",
      "1580 121\n",
      "1050 59\n",
      "16 90\n",
      "36 52\n",
      "52 52\n",
      "51 125\n",
      "62 125\n",
      "73 125\n",
      "84 125\n",
      "125 125\n",
      "16 42\n",
      "42 42\n",
      "11 114\n",
      "57 114\n",
      "73 114\n",
      "114 114\n"
     ]
    },
    {
     "data": {
      "text/plain": [
       "860"
      ]
     },
     "execution_count": 32,
     "metadata": {},
     "output_type": "execute_result"
    }
   ],
   "source": [
    "def get_version_number(transmission):\n",
    "    if transmission.get_type_id() == 4:\n",
    "        idx = 6        \n",
    "        while transmission.bin_string[idx] == '1':\n",
    "            idx += 5\n",
    "        idx+=5\n",
    "        remaining_digits = transmission.bin_string[idx:]\n",
    "        transmission.bin_string = transmission.bin_string[0:idx]\n",
    "\n",
    "        if transmission.parent.get_length_type() == 1:\n",
    "            \n",
    "            if len(transmission.parent.children) != transmission.parent.get_packets():\n",
    "                transmission_sibling = Node(remaining_digits)\n",
    "                transmission_sibling.parent = transmission.parent\n",
    "                transmission.parent.children.append(transmission_sibling)\n",
    "                return get_version_number(transmission_sibling)\n",
    "\n",
    "        else:\n",
    "            if transmission.parent.get_length_type() == 0:\n",
    "\n",
    "                total_length = sum([len(child.bin_string) for child in transmission.parent.children])\n",
    "                print(total_length, transmission.parent.get_bit_length())\n",
    "\n",
    "                if total_length != transmission.parent.get_bit_length():\n",
    "                    transmission_sibling = Node(remaining_digits)\n",
    "                    transmission_sibling.parent = transmission.parent\n",
    "                    transmission.parent.children.append(transmission_sibling)\n",
    "                    return get_version_number(transmission_sibling)\n",
    "             \n",
    "     \n",
    "    else:    \n",
    "        if transmission.get_length_type() == 0:\n",
    "            transmission_child = Node(transmission.bin_string[7+15:])\n",
    "            transmission_child.parent = transmission\n",
    "            transmission.children.append(transmission_child)\n",
    "            \n",
    "            return get_version_number(transmission_child)\n",
    "\n",
    "        else:            \n",
    "            transmission_child = Node(transmission.bin_string[7+11:])\n",
    "            transmission_child.parent = transmission\n",
    "            transmission.children.append(transmission_child)\n",
    "            \n",
    "            return get_version_number(transmission_child)\n",
    "        \n",
    "    if (remaining_digits != '') and int(remaining_digits,2) != 0:\n",
    "        transmission_parent_sibling = Node(remaining_digits)\n",
    "        transmission_parent_sibling.parent = transmission.parent.parent\n",
    "        transmission.parent.parent.children.append(transmission_parent_sibling)\n",
    "        return get_version_number(transmission_parent_sibling)\n",
    "    return\n",
    "    \n",
    "    return transmission\n",
    "\n",
    "def count_version(node):\n",
    "    count = node.get_version()\n",
    "    for children in node.children:\n",
    "        count += count_version(children)\n",
    "    return count\n",
    "\n",
    "count_version(transmission)\n",
    "\n",
    "transmission = Node(to_binary(\"A059141803C0008447E897180401F82F1E60D80021D11A3DC3F300470015786935BED80A5DB5002F69B4298A60FE73BE41968F48080328D00427BCD339CC7F431253838CCEFF4A943803D251B924EC283F16D400C9CDB3180213D2D542EC01092D77381A98DA89801D241705C80180960E93469801400F0A6CEA7617318732B08C67DA48C27551C00F972830052800B08550A277416401A5C913D0043D2CD125AC4B1DB50E0802059552912E9676931530046C0141007E3D4698E20008744D89509677DBF5759F38CDC594401093FC67BACDCE66B3C87380553E7127B88ECACAD96D98F8AC9E570C015C00B8E4E33AD33632938CEB4CD8C67890C01083B800E5CBDAB2BDDF65814C01299D7E34842E85801224D52DF9824D52DF981C4630047401400042E144698B2200C4328731CA6F9CBCA5FBB798021259B7B3BBC912803879CD67F6F5F78BB9CD6A77D42F1223005B8037600042E25C158FE0008747E8F50B276116C9A2730046801F29BC854A6BF4C65F64EB58DF77C018009D640086C318870A0C01D88105A0B9803310E2045C8CF3F4E7D7880484D0040001098B51DA0980021F17A3047899585004E79CE4ABD503005E610271ED4018899234B64F64588C0129EEDFD2EFBA75E0084CC659AF3457317069A509B97FB3531003254D080557A00CC8401F8791DA13080391EA39C739EFEE5394920C01098C735D51B004A7A92F6A0953D497B504F200F2BC01792FE9D64BFA739584774847CE26006A801AC05DE180184053E280104049D10111CA006300E962005A801E2007B80182007200792E00420051E400EF980192DC8471E259245100967FF7E6F2CF25DBFA8593108D342939595454802D79550C0068A72F0DC52A7D68003E99C863D5BC7A411EA37C229A86EBBC0CB802B331FDBED13BAB92080310265296AFA1EDE8AA64A0C02C9D49966195609C0594223005B80152977996D69EE7BD9CE4C1803978A7392ACE71DA448914C527FFE140\"))\n",
    "get_version_number(transmission)\n",
    "count_version(transmission)"
   ]
  },
  {
   "cell_type": "code",
   "execution_count": 23,
   "metadata": {},
   "outputs": [
    {
     "data": {
      "text/plain": [
       "1031"
      ]
     },
     "execution_count": 23,
     "metadata": {},
     "output_type": "execute_result"
    }
   ],
   "source": [
    "sum([len(child.bin_string) for child in transmission.children])"
   ]
  },
  {
   "cell_type": "code",
   "execution_count": 26,
   "metadata": {},
   "outputs": [],
   "source": [
    "def multiplyList(myList) :\n",
    "    result = 1\n",
    "    for x in myList:\n",
    "         result = result * x\n",
    "    return result"
   ]
  },
  {
   "cell_type": "code",
   "execution_count": 29,
   "metadata": {},
   "outputs": [
    {
     "data": {
      "text/plain": [
       "470949537659"
      ]
     },
     "execution_count": 29,
     "metadata": {},
     "output_type": "execute_result"
    }
   ],
   "source": [
    "def compute(node):\n",
    "    if len(node.children) == 0:\n",
    "        return (node.get_literal())\n",
    "    if (node.get_type_id() == 0):\n",
    "        return sum([compute(children) for children in  node.children])\n",
    "    if (node.get_type_id() == 1):\n",
    "        return multiplyList([compute(children) for children in  node.children])\n",
    "    if (node.get_type_id() == 2):\n",
    "        return min([compute(children) for children in  node.children])\n",
    "    if (node.get_type_id() == 3):\n",
    "        return max([compute(children) for children in  node.children])\n",
    "    if (node.get_type_id() == 5):\n",
    "        return int(compute(node.children[0]) > compute(node.children[1]))\n",
    "    if (node.get_type_id() == 6):\n",
    "        return int(compute(node.children[0]) < compute(node.children[1]))\n",
    "    if (node.get_type_id() == 7):\n",
    "        return int(compute(node.children[0]) == compute(node.children[1]))\n",
    "compute(transmission)"
   ]
  },
  {
   "cell_type": "code",
   "execution_count": 120,
   "metadata": {},
   "outputs": [],
   "source": [
    "def get_version_number(bin_string):\n",
    "    version = int(bin_string[0:3],2)\n",
    "    type_s = int(bin_string[3:6],2)\n",
    "    Node(bin_string)\n",
    "    print(\"version: \" + str(version))\n",
    "    print(\"type_s: \" + str(type_s))\n",
    "    \n",
    "    if type_s == 4:\n",
    "        return version + \n",
    "    else:\n",
    "        length_type = int(bin_string[6])\n",
    "        \n",
    "        print(\"length: \" + str(length_type))\n",
    "    \n",
    "        if length_type == 0:\n",
    "            print(\"hello\")\n",
    "            bit_length = int(bin_string[7:7+15],2)\n",
    "            sub_packets = bin_string[7+15:]\n",
    "            print(\"bit_length: \" + str(bit_length))\n",
    "            return version + (get_version_number(sub_packets[:bit_length]))\n",
    "\n",
    "        else:\n",
    "            packets = int(bin_string[7:7+11],2)\n",
    "            sub_packets = bin_string[7+11:]\n",
    "            print(\"packets: \" + str(packets))\n",
    "            print(\"sub_packets: \" + str(sub_packets))\n",
    "            return version + (get_version_number(sub_packets))\n"
   ]
  },
  {
   "cell_type": "code",
   "execution_count": 408,
   "metadata": {},
   "outputs": [
    {
     "data": {
      "text/plain": [
       "'111111101110'"
      ]
     },
     "execution_count": 408,
     "metadata": {},
     "output_type": "execute_result"
    }
   ],
   "source": [
    "\n",
    "\n",
    "to_binary(\"FEE\")"
   ]
  },
  {
   "cell_type": "code",
   "execution_count": null,
   "metadata": {},
   "outputs": [],
   "source": []
  }
 ],
 "metadata": {
  "kernelspec": {
   "display_name": "Python 3",
   "language": "python",
   "name": "python3"
  },
  "language_info": {
   "codemirror_mode": {
    "name": "ipython",
    "version": 3
   },
   "file_extension": ".py",
   "mimetype": "text/x-python",
   "name": "python",
   "nbconvert_exporter": "python",
   "pygments_lexer": "ipython3",
   "version": "3.8.3"
  }
 },
 "nbformat": 4,
 "nbformat_minor": 4
}
