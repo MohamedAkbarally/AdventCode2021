{
 "cells": [
  {
   "cell_type": "code",
   "execution_count": 16,
   "metadata": {},
   "outputs": [
    {
     "data": {
      "text/plain": [
       "[6, 4]"
      ]
     },
     "execution_count": 16,
     "metadata": {},
     "output_type": "execute_result"
    }
   ],
   "source": [
    "player_pos"
   ]
  },
  {
   "cell_type": "code",
   "execution_count": 18,
   "metadata": {},
   "outputs": [
    {
     "data": {
      "text/plain": [
       "920580"
      ]
     },
     "execution_count": 18,
     "metadata": {},
     "output_type": "execute_result"
    }
   ],
   "source": [
    "with open('./data/day_21/input.txt') as f:\n",
    "    data = f.read().splitlines()\n",
    "\n",
    "player_pos = [int(player[-1]) for player in data]\n",
    "\n",
    "class Player:\n",
    "    def __init__(self, position):\n",
    "        self.position = position - 1\n",
    "        self.score = 0\n",
    "        \n",
    "    def move(self,amount):\n",
    "        self.position = (self.position + amount) % 10\n",
    "        self.score += self.position + 1\n",
    "        \n",
    "    def has_won(self):\n",
    "        return(self.score >= 1000)\n",
    "\n",
    "class DeterministicDice:\n",
    "    def __init__(self):\n",
    "        self.iter = -1\n",
    "        self.rollcount = 0\n",
    "        \n",
    "    def roll(self):\n",
    "        self.iter = (self.iter + 1) % 100\n",
    "        self.rollcount += 1\n",
    "        return(self.iter + 1)\n",
    "\n",
    "player1 = Player(player_pos[0])\n",
    "player2 = Player(player_pos[1])\n",
    "dice = DeterministicDice()\n",
    "\n",
    "while not player1.has_won() and not player2.has_won():\n",
    "    player1.move(dice.roll()+dice.roll()+dice.roll())\n",
    "    if player1.has_won():\n",
    "        break\n",
    "    player2.move(dice.roll()+dice.roll()+dice.roll())\n",
    "    \n",
    "dice.rollcount*min(player1.score,player2.score)"
   ]
  },
  {
   "cell_type": "code",
   "execution_count": 19,
   "metadata": {},
   "outputs": [
    {
     "data": {
      "text/plain": [
       "647920021341197"
      ]
     },
     "execution_count": 19,
     "metadata": {},
     "output_type": "execute_result"
    }
   ],
   "source": [
    "game_state = {}\n",
    "game_state_2 = {}\n",
    "\n",
    "def move(pos,n):\n",
    "    return ((pos-1 + n) % 10) + 1\n",
    "\n",
    "def update_score(pos,n,turn):\n",
    "    if turn % 3 == 2:\n",
    "        return move(pos,n)\n",
    "    else:\n",
    "        return 0\n",
    "\n",
    "def play(pos1,pos2,score1=0,score2=0,turn=0):\n",
    "    wins = 0\n",
    "    \n",
    "    if (turn%3)==0:\n",
    "        if ((turn//3)%2)==0:\n",
    "            if (pos1,pos2,score1,score2) in game_state:\n",
    "                return game_state[(pos1,pos2,score1,score2)]\n",
    "        else:\n",
    "            if (pos1,pos2,score1,score2) in game_state_2:\n",
    "                return game_state_2[(pos1,pos2,score1,score2)]\n",
    "\n",
    "        if score1 >= 21:\n",
    "            return 1\n",
    "        if score2 >= 21:\n",
    "            return 0\n",
    "        \n",
    "    \n",
    "    if ((turn//3)%2)==0:\n",
    "        wins += play(move(pos1,1),pos2,score1+update_score(pos1,1,turn),score2,turn+1)\n",
    "        wins += play(move(pos1,2),pos2,score1+update_score(pos1,2,turn),score2,turn+1)\n",
    "        wins += play(move(pos1,3),pos2,score1+update_score(pos1,3,turn),score2,turn+1)\n",
    "    else:\n",
    "        wins += play(pos1,move(pos2,1),score1,score2+update_score(pos2,1,turn),turn+1)\n",
    "        wins += play(pos1,move(pos2,2),score1,score2+update_score(pos2,2,turn),turn+1)\n",
    "        wins += play(pos1,move(pos2,3),score1,score2+update_score(pos2,3,turn),turn+1)\n",
    "    \n",
    "    \n",
    "    if (turn%3)==0:\n",
    "        if ((turn//3)%2)==0:\n",
    "            game_state[(pos1,pos2,score1,score2)] = wins\n",
    "        else:\n",
    "            game_state_2[(pos1,pos2,score1,score2)] = wins\n",
    "    return wins\n",
    "\n",
    "play(player_pos[0],player_pos[1])"
   ]
  },
  {
   "cell_type": "code",
   "execution_count": null,
   "metadata": {},
   "outputs": [],
   "source": []
  }
 ],
 "metadata": {
  "kernelspec": {
   "display_name": "Python 3",
   "language": "python",
   "name": "python3"
  },
  "language_info": {
   "codemirror_mode": {
    "name": "ipython",
    "version": 3
   },
   "file_extension": ".py",
   "mimetype": "text/x-python",
   "name": "python",
   "nbconvert_exporter": "python",
   "pygments_lexer": "ipython3",
   "version": "3.8.3"
  }
 },
 "nbformat": 4,
 "nbformat_minor": 4
}
