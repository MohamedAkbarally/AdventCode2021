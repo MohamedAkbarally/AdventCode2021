{
 "cells": [
  {
   "cell_type": "code",
   "execution_count": 1,
   "metadata": {},
   "outputs": [],
   "source": [
    "import numpy as np\n",
    "from collections import defaultdict\n",
    "from itertools import combinations\n",
    "\n",
    "def list_to_int(str_list):\n",
    "    return np.array([int(x) for x in str_list])\n",
    "\n",
    "def def_value():\n",
    "    return 0\n",
    "\n",
    "def read_input(path):\n",
    "    with open(path) as f:\n",
    "        return(f.read().split(\"\\n\")[:-1])"
   ]
  },
  {
   "cell_type": "code",
   "execution_count": 2,
   "metadata": {},
   "outputs": [],
   "source": []
  },
  {
   "cell_type": "code",
   "execution_count": 5,
   "metadata": {},
   "outputs": [],
   "source": [
    "with open('./data/day_22/input.txt') as f:\n",
    "    data = f.read().splitlines()\n",
    "day_22_input = [line.split(\" \") for line in data]\n",
    "day_22_input = [(switch,np.array([list_to_int(c[2:].split(\"..\")) for c in line.split(\",\")])) for switch,line in day_22_input]\n",
    "\n",
    "def to_countinous(xs):\n",
    "    return (xs[0]-0.5,xs[1]+0.5)\n",
    "\n",
    "class Cube:\n",
    "    def __init__(self, x,y,z,on):\n",
    "        self.x = x\n",
    "        self.y = y\n",
    "        self.z = z\n",
    "        self.on = on\n",
    "        self.children = []\n",
    "        \n",
    "    def add_intersection(self,cube,on):\n",
    "        for child in self.children:\n",
    "            child.add_intersection(cube,-1*on)\n",
    "        self.intersection(cube,on)\n",
    "        \n",
    "    def get_area(self):\n",
    "        my_area = self.on*(self.x[1]-self.x[0])*(self.y[1]-self.y[0])*(self.z[1]-self.z[0])\n",
    "        for child in self.children:\n",
    "            my_area += child.get_area() \n",
    "        return my_area\n",
    "    \n",
    "    def intersection(self,cube,on):\n",
    "        x = get_line_intersection(self.x,cube.x)\n",
    "        y = get_line_intersection(self.y,cube.y)\n",
    "        z = get_line_intersection(self.z,cube.z)\n",
    "\n",
    "        if x == None or y == None or z == None:\n",
    "            return\n",
    "        return self.children.append(Cube(x,y,z,on))\n",
    "\n",
    "                             \n",
    "def get_line_intersection(line1,line2):\n",
    "    points = (line1[0],line1[1],line2[0],line2[1])\n",
    "    sorted_points = sorted(points)\n",
    "\n",
    "    if (sorted_points[0] == line2[0] and sorted_points[1] == line2[1]):\n",
    "        return None\n",
    "    if (sorted_points[0] == line1[0] and sorted_points[1] == line1[1]):\n",
    "        return None\n",
    "    else:\n",
    "        return (sorted_points[1],sorted_points[2])\n",
    "    return None\n",
    "\n",
    "class CubeSpace:\n",
    "    def __init__(self):\n",
    "        self.cubes = []\n",
    "        \n",
    "    def addCube(self,cube):\n",
    "        [c1.add_intersection(cube,-1) for c1 in self.cubes]\n",
    "        self.cubes.append(cube)\n",
    "        \n",
    "    def addOffCube(self,cube):\n",
    "        [c1.add_intersection(cube,-1) for c1 in self.cubes]\n",
    "        \n",
    "def get_cubes_on(data):\n",
    "    cube_space = CubeSpace()\n",
    "\n",
    "    for switch,coords in data:\n",
    "\n",
    "        x = to_countinous(coords[0])\n",
    "        y = to_countinous(coords[1])\n",
    "        z = to_countinous(coords[2])\n",
    "\n",
    "        if switch == 'on':\n",
    "            cube_space.addCube(Cube(x,y,z,1))\n",
    "        else:\n",
    "            cube_space.addOffCube(Cube(x,y,z,-1))\n",
    "\n",
    "    return sum([c.get_area() for c in cube_space.cubes])\n",
    "\n",
    "get_cubes_on(day_22_input[:20])"
   ]
  },
  {
   "cell_type": "code",
   "execution_count": 19,
   "metadata": {},
   "outputs": [
    {
     "data": {
      "text/plain": [
       "587785.0"
      ]
     },
     "execution_count": 19,
     "metadata": {},
     "output_type": "execute_result"
    }
   ],
   "source": [
    "get_cubes_on(day_22_input)"
   ]
  },
  {
   "cell_type": "code",
   "execution_count": 20,
   "metadata": {},
   "outputs": [
    {
     "data": {
      "text/plain": [
       "1167985679908143.0"
      ]
     },
     "execution_count": 20,
     "metadata": {},
     "output_type": "execute_result"
    }
   ],
   "source": []
  },
  {
   "cell_type": "code",
   "execution_count": 7,
   "metadata": {},
   "outputs": [],
   "source": [
    "\n"
   ]
  },
  {
   "cell_type": "code",
   "execution_count": 274,
   "metadata": {},
   "outputs": [],
   "source": []
  },
  {
   "cell_type": "code",
   "execution_count": 305,
   "metadata": {},
   "outputs": [],
   "source": [
    "\n",
    "    "
   ]
  }
 ],
 "metadata": {
  "kernelspec": {
   "display_name": "Python 3",
   "language": "python",
   "name": "python3"
  },
  "language_info": {
   "codemirror_mode": {
    "name": "ipython",
    "version": 3
   },
   "file_extension": ".py",
   "mimetype": "text/x-python",
   "name": "python",
   "nbconvert_exporter": "python",
   "pygments_lexer": "ipython3",
   "version": "3.8.3"
  }
 },
 "nbformat": 4,
 "nbformat_minor": 4
}
