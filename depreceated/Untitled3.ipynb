{
 "cells": [
  {
   "cell_type": "code",
   "execution_count": 1,
   "metadata": {},
   "outputs": [],
   "source": [
    "import numpy as np\n",
    "from collections import defaultdict\n",
    "\n",
    "def list_to_int(str_list):\n",
    "    return [int(x) for x in str_list]\n",
    "\n",
    "def def_value():\n",
    "    return 0\n",
    "\n",
    "def read_input(path):\n",
    "    with open(path) as f:\n",
    "        return(f.read().split(\"\\n\")[:-1])"
   ]
  },
  {
   "cell_type": "code",
   "execution_count": 2,
   "metadata": {},
   "outputs": [],
   "source": []
  },
  {
   "cell_type": "code",
   "execution_count": 3,
   "metadata": {},
   "outputs": [],
   "source": [
    "with open('./data/day_20/input.txt') as f:\n",
    "    data = f.read().splitlines()\n",
    "\n",
    "def covert_to_binary(a):\n",
    "    pixel_d = {'#':1, '.':0}\n",
    "    return [pixel_d[x] for x in a]\n",
    "\n",
    "def to_dec(xs,n=0):\n",
    "    if len(xs) == 0: \n",
    "        return 0\n",
    "    return xs[-1]*2**n + to_dec(xs[:-1],n+1)\n",
    "\n",
    "image_enhancement = {i:x for i,x in enumerate(covert_to_binary(data[0]))}\n",
    "image = np.array([covert_to_binary(x) for x in data[2:]])\n",
    "image = np.pad(image, ((110 ,110), (110, 110)), constant_values=(0))\n",
    "\n",
    "def apply_enhacement(image):\n",
    "    new_array = np.zeros((image.shape[0]-2,image.shape[0]-2))\n",
    "\n",
    "    for i in range(1,len(image)-1):\n",
    "        for j in range(1,len(image)-1):\n",
    "            new_array[i-1,j-1] = image_enhancement[to_dec(image[i-1:i+2,j-1:j+2].ravel())]\n",
    "            \n",
    "    return new_array\n",
    "        \n",
    "apply_enhacement(apply_enhacement(image)).sum()"
   ]
  },
  {
   "cell_type": "code",
   "execution_count": 5,
   "metadata": {},
   "outputs": [
    {
     "data": {
      "text/plain": [
       "16793.0"
      ]
     },
     "execution_count": 5,
     "metadata": {},
     "output_type": "execute_result"
    }
   ],
   "source": [
    "new_image = image\n",
    "for i in range(50):\n",
    "    new_image = apply_enhacement(new_image)\n",
    "    \n",
    "new_image.sum()"
   ]
  },
  {
   "cell_type": "code",
   "execution_count": null,
   "metadata": {},
   "outputs": [],
   "source": []
  }
 ],
 "metadata": {
  "kernelspec": {
   "display_name": "Python 3",
   "language": "python",
   "name": "python3"
  },
  "language_info": {
   "codemirror_mode": {
    "name": "ipython",
    "version": 3
   },
   "file_extension": ".py",
   "mimetype": "text/x-python",
   "name": "python",
   "nbconvert_exporter": "python",
   "pygments_lexer": "ipython3",
   "version": "3.8.3"
  }
 },
 "nbformat": 4,
 "nbformat_minor": 4
}
