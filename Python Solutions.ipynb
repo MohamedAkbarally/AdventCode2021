{
 "cells": [
  {
   "cell_type": "markdown",
   "metadata": {},
   "source": [
    "Helper functions"
   ]
  },
  {
   "cell_type": "code",
   "execution_count": 2,
   "metadata": {},
   "outputs": [],
   "source": [
    "import numpy as np\n",
    "from collections import defaultdict\n",
    "\n",
    "def list_to_int(str_list):\n",
    "    return [int(x) for x in str_list]\n",
    "\n",
    "def def_value():\n",
    "    return 0\n",
    "\n",
    "def read_input(path):\n",
    "    with open(path) as f:\n",
    "        return(f.read().split(\"\\n\")[:-1])"
   ]
  },
  {
   "cell_type": "markdown",
   "metadata": {},
   "source": [
    "## Day 1"
   ]
  },
  {
   "cell_type": "markdown",
   "metadata": {},
   "source": [
    "#### Puzzle 1"
   ]
  },
  {
   "cell_type": "code",
   "execution_count": 8,
   "metadata": {},
   "outputs": [
    {
     "data": {
      "text/plain": [
       "1448"
      ]
     },
     "execution_count": 8,
     "metadata": {},
     "output_type": "execute_result"
    }
   ],
   "source": [
    "input_day_1 = list_to_int(read_input('./data/day_1/input.txt'))\n",
    "\n",
    "def find_times_increasing(data):\n",
    "    return sum([pair[0]-pair[1]>0 for pair in zip(data[1:],data[:-1])])\n",
    "\n",
    "find_increasing(input_day_1)"
   ]
  },
  {
   "cell_type": "markdown",
   "metadata": {},
   "source": [
    "#### Puzzle 2"
   ]
  },
  {
   "cell_type": "code",
   "execution_count": 58,
   "metadata": {},
   "outputs": [
    {
     "data": {
      "text/plain": [
       "1471"
      ]
     },
     "execution_count": 58,
     "metadata": {},
     "output_type": "execute_result"
    }
   ],
   "source": [
    "def find_times_window_increasing(data):\n",
    "    window_list = list(zip(input_day_1[:-2],input_day_1[1:-1],input_day_1[2:]))\n",
    "    return find_increasing([sum(window) for window in window_list])\n",
    "\n",
    "find_window_increasing(input_day_1)"
   ]
  },
  {
   "cell_type": "markdown",
   "metadata": {},
   "source": [
    "## Day 2"
   ]
  },
  {
   "cell_type": "markdown",
   "metadata": {},
   "source": [
    "#### Puzzle 1"
   ]
  },
  {
   "cell_type": "code",
   "execution_count": 5,
   "metadata": {},
   "outputs": [
    {
     "data": {
      "text/plain": [
       "2102357"
      ]
     },
     "execution_count": 5,
     "metadata": {},
     "output_type": "execute_result"
    }
   ],
   "source": [
    "input_day_2 = read_input('./data/day_2/input.txt')\n",
    "\n",
    "def directionTotal(direction,data):\n",
    "    return sum([int(x[-1]) for x in data if x.startswith(direction)])\n",
    "\n",
    "directionTotal(\"forward\",input_day_2) * (directionTotal(\"down\",input_day_2) - directionTotal(\"up\",input_day_2))"
   ]
  },
  {
   "cell_type": "markdown",
   "metadata": {},
   "source": [
    "#### Puzzle 2"
   ]
  },
  {
   "cell_type": "code",
   "execution_count": 6,
   "metadata": {},
   "outputs": [
    {
     "data": {
      "text/plain": [
       "2101031224"
      ]
     },
     "execution_count": 6,
     "metadata": {},
     "output_type": "execute_result"
    }
   ],
   "source": [
    "enumerated_forwards = [(idx,x) for idx,x in list(enumerate(input_day_2)) if x.startswith(\"forward\")]\n",
    "\n",
    "def get_direction_value(direction):\n",
    "    return int(direction[-1])\n",
    "\n",
    "def enumarate_list(data):\n",
    "    return list(enumerate(data))\n",
    "\n",
    "def isForward(direction_t):\n",
    "    return direction_t[1].startswith(\"forward\")\n",
    "\n",
    "enumerated_forwards = list(filter(isForward,enumarate_list(input_day_2)))\n",
    "\n",
    "def change_in_depth(data,idx,direction):\n",
    "     return get_direction_value(direction) * (directionTotal(\"down\",data[:idx]) - directionTotal(\"up\",data[:idx]))\n",
    "    \n",
    "depth = sum([change_in_depth(input_day_2,idx,x) for idx,x in enumerated_forwards])\n",
    "horizontal_position = directionTotal(\"forward\",input_day_2)\n",
    "\n",
    "horizontal_position*depth"
   ]
  },
  {
   "cell_type": "markdown",
   "metadata": {},
   "source": [
    "## Day 3"
   ]
  },
  {
   "cell_type": "markdown",
   "metadata": {},
   "source": [
    "#### Puzzle 1"
   ]
  },
  {
   "cell_type": "code",
   "execution_count": 11,
   "metadata": {},
   "outputs": [
    {
     "data": {
      "text/plain": [
       "3148794"
      ]
     },
     "execution_count": 11,
     "metadata": {},
     "output_type": "execute_result"
    }
   ],
   "source": [
    "input_day_3 = read_input('./data/day_3/input.txt')\n",
    "\n",
    "def find_most_freq(digit,data):\n",
    "    return str(int(sum([int(x[digit]) for x in data])/len(data)>=0.5))\n",
    "\n",
    "def bin_to_dec(binary):\n",
    "    return int(binary,2)\n",
    "\n",
    "gamma = \"\"\n",
    "for i in range(len(input_day_3[0])):\n",
    "    gamma += find_most_freq(i,input_day_3)\n",
    "    \n",
    "beta = gamma.replace(\"0\",\"t\").replace(\"1\",\"0\").replace(\"t\",\"1\")\n",
    "    \n",
    "bin_to_dec(gamma)*bin_to_dec(beta)"
   ]
  },
  {
   "cell_type": "markdown",
   "metadata": {},
   "source": [
    "#### Puzzle 2"
   ]
  },
  {
   "cell_type": "code",
   "execution_count": 12,
   "metadata": {},
   "outputs": [
    {
     "data": {
      "text/plain": [
       "2795310"
      ]
     },
     "execution_count": 12,
     "metadata": {},
     "output_type": "execute_result"
    }
   ],
   "source": [
    "oxygen_list = input_day_3\n",
    "CO2_list = input_day_3\n",
    "\n",
    "for i in range(len(input_day_3[0])):\n",
    "    if (len(oxygen_list)>1):\n",
    "        oxygen_list = [x for x in oxygen_list if x[i]==find_most_freq(i,oxygen_list)]\n",
    "    if (len(CO2_list)>1):\n",
    "        CO2_list = [x for x in CO2_list if x[i]!=find_most_freq(i,CO2_list)]\n",
    "        \n",
    "bin_to_dec(oxygen_list[0]) * bin_to_dec(CO2_list[0])"
   ]
  },
  {
   "cell_type": "markdown",
   "metadata": {},
   "source": [
    "## Day 4"
   ]
  },
  {
   "cell_type": "markdown",
   "metadata": {},
   "source": [
    "#### Puzzle 1"
   ]
  },
  {
   "cell_type": "code",
   "execution_count": 6,
   "metadata": {},
   "outputs": [
    {
     "data": {
      "text/plain": [
       "34506"
      ]
     },
     "execution_count": 6,
     "metadata": {},
     "output_type": "execute_result"
    }
   ],
   "source": [
    "with open('./data/day_4/input.txt') as f:\n",
    "    data = f.read().splitlines()\n",
    "    \n",
    "numbers = list_to_int(data[0].split(\",\"))\n",
    "boards = np.array([[list_to_int(x.strip().replace(\"  \",\" \").split(\" \")) for x in data[(i*6)+2:(i*6)+7]] for i in range(100)])\n",
    "\n",
    "def find_winning_board(boards):\n",
    "    for number in numbers:\n",
    "        boards = np.where(boards == number, -1, boards)\n",
    "        for idx,board in enumerate(boards):\n",
    "            if (min(board.sum(axis=1).min(),board.sum(axis=0).min()) == -5):\n",
    "                return(np.where(board == -1, 0, board),number,idx)\n",
    "            \n",
    "winning_board, winning_number, idx = find_winning_board(boards)\n",
    "\n",
    "winning_board.sum() * winning_number"
   ]
  },
  {
   "cell_type": "markdown",
   "metadata": {},
   "source": [
    "#### Puzzle 2"
   ]
  },
  {
   "cell_type": "code",
   "execution_count": 7,
   "metadata": {},
   "outputs": [
    {
     "name": "stdout",
     "output_type": "stream",
     "text": [
      "7686\n"
     ]
    }
   ],
   "source": [
    "temp_boards = boards; winning_number=None; winning_board=None\n",
    "\n",
    "while len(temp_boards)>0:\n",
    "    winning_board, winning_number, idx = find_winning_board(temp_boards)\n",
    "    temp_boards = np.delete(temp_boards,idx,axis=0)\n",
    "    \n",
    "print(winning_board.sum()*winning_number)"
   ]
  },
  {
   "cell_type": "markdown",
   "metadata": {},
   "source": [
    "## Day 5"
   ]
  },
  {
   "cell_type": "markdown",
   "metadata": {},
   "source": [
    "#### Puzzle 1"
   ]
  },
  {
   "cell_type": "code",
   "execution_count": 15,
   "metadata": {},
   "outputs": [
    {
     "data": {
      "text/plain": [
       "8111"
      ]
     },
     "execution_count": 15,
     "metadata": {},
     "output_type": "execute_result"
    }
   ],
   "source": [
    "with open('./data/day_5/input.txt') as f:\n",
    "    data = f.read().splitlines()\n",
    "    \n",
    "starts = [point.split(\" -> \")[0].split(\",\") for point in data]\n",
    "ends = [point.split(\" -> \")[1].split(\",\") for point in data]\n",
    "\n",
    "def find_danger_zones(isAllLines=False):\n",
    "    coords_dict = defaultdict(def_value)\n",
    "\n",
    "    for start,end in zip(starts,ends):\n",
    "        x_trans = (int(start[0]),int(end[0]))\n",
    "        y_trans = (int(start[1]),int(end[1]))\n",
    "\n",
    "        delta_x  = abs(x_trans[0] - x_trans[1])\n",
    "        delta_y  = abs(y_trans[0] - y_trans[1])\n",
    "        detla_greatest = max(delta_x,delta_y)\n",
    "\n",
    "        if delta_x != 0 and delta_y != 0 and not isAllLines:\n",
    "            continue\n",
    "\n",
    "        x_linspace = np.linspace(x_trans[0],x_trans[1],detla_greatest+1)\n",
    "        y_linspace = np.linspace(y_trans[0],y_trans[1],detla_greatest+1)\n",
    "\n",
    "        for coord in list(zip(x_linspace,y_linspace)):\n",
    "            coords_dict[coord] += 1\n",
    "    \n",
    "    return coords_dict\n",
    "\n",
    "len([val for val in find_danger_zones().values() if val > 1])"
   ]
  },
  {
   "cell_type": "markdown",
   "metadata": {},
   "source": [
    "#### Puzzle 2"
   ]
  },
  {
   "cell_type": "code",
   "execution_count": 16,
   "metadata": {},
   "outputs": [
    {
     "data": {
      "text/plain": [
       "22088"
      ]
     },
     "execution_count": 16,
     "metadata": {},
     "output_type": "execute_result"
    }
   ],
   "source": [
    "len([val for val in find_danger_zones(True).values() if val > 1])"
   ]
  },
  {
   "cell_type": "markdown",
   "metadata": {},
   "source": [
    "## Day 6"
   ]
  },
  {
   "cell_type": "markdown",
   "metadata": {},
   "source": [
    "#### Puzzle 1"
   ]
  },
  {
   "cell_type": "code",
   "execution_count": 4,
   "metadata": {},
   "outputs": [
    {
     "data": {
      "text/plain": [
       "360761"
      ]
     },
     "execution_count": 4,
     "metadata": {},
     "output_type": "execute_result"
    }
   ],
   "source": [
    "with open('./data/day_6/input.txt') as f:\n",
    "    fishs = list_to_int(f.read().splitlines()[0].split(\",\"))\n",
    "    \n",
    "def get_fish_count(fishs,iterations):\n",
    "    \n",
    "    fish_d = defaultdict(def_value)\n",
    "    \n",
    "    for item in fishs:\n",
    "        fish_d[item] += 1\n",
    "    \n",
    "    for i in range(iterations):\n",
    "        new_fish = fish_d[0]\n",
    "\n",
    "        for i in range(0,8):\n",
    "            fish_d[i] = fish_d[i+1]\n",
    "\n",
    "        fish_d[6] = fish_d[6]+ new_fish\n",
    "        fish_d[8] = new_fish\n",
    "    return sum(fish_d.values())\n",
    "\n",
    "get_fish_count(fishs,80)"
   ]
  },
  {
   "cell_type": "markdown",
   "metadata": {},
   "source": [
    "#### Puzzle 2"
   ]
  },
  {
   "cell_type": "code",
   "execution_count": 14,
   "metadata": {},
   "outputs": [
    {
     "data": {
      "text/plain": [
       "1632779838045"
      ]
     },
     "execution_count": 14,
     "metadata": {},
     "output_type": "execute_result"
    }
   ],
   "source": [
    "get_fish_count(fishs,256)"
   ]
  },
  {
   "cell_type": "markdown",
   "metadata": {},
   "source": [
    "## Day 7"
   ]
  },
  {
   "cell_type": "markdown",
   "metadata": {},
   "source": [
    "#### Puzzle 1"
   ]
  },
  {
   "cell_type": "code",
   "execution_count": 3,
   "metadata": {},
   "outputs": [
    {
     "data": {
      "text/plain": [
       "343441"
      ]
     },
     "execution_count": 3,
     "metadata": {},
     "output_type": "execute_result"
    }
   ],
   "source": [
    "with open('./data/day_7/input.txt') as f:\n",
    "    crabs = np.array(list_to_int(f.read().splitlines()[0].split(\",\")))\n",
    "    \n",
    "def find_best_crab_position(crabs,fuel_function):\n",
    "    pos = int(crabs.mean())\n",
    "    mean_fuel = fuel_function(pos,crabs)\n",
    "    right = fuel_function(pos+1,crabs)\n",
    "    left = fuel_function(pos-1,crabs)\n",
    "\n",
    "    if mean_fuel < right and mean_fuel < left:\n",
    "        return(mean_fuel)\n",
    "\n",
    "    previous_value = right\n",
    "    iterator = 1\n",
    "    \n",
    "    if left < right:\n",
    "        iterator = -1\n",
    "        previous_value = left\n",
    "\n",
    "    pos+=iterator\n",
    "    next_value = fuel_function(pos+iterator,crabs)\n",
    "\n",
    "    while previous_value > next_value:\n",
    "        previous_value = next_value\n",
    "        pos+=iterator\n",
    "        next_value = fuel_function(pos+iterator,crabs)\n",
    "\n",
    "    return(previous_value)\n",
    "\n",
    "def linear_fuel(value,crabs):\n",
    "    fuel = np.sum(np.abs(value - crabs))\n",
    "    return fuel\n",
    "\n",
    "\n",
    "    \n",
    "find_best_crab_position(crabs,linear_fuel)"
   ]
  },
  {
   "cell_type": "markdown",
   "metadata": {},
   "source": [
    "#### Puzzle 2"
   ]
  },
  {
   "cell_type": "code",
   "execution_count": 9,
   "metadata": {},
   "outputs": [
    {
     "data": {
      "text/plain": [
       "98925151"
      ]
     },
     "execution_count": 9,
     "metadata": {},
     "output_type": "execute_result"
    }
   ],
   "source": [
    "def fuelcost(n):\n",
    "    if n == 0: return 0\n",
    "    return n + fuelcost(n-1)\n",
    "\n",
    "def exponential_fuel(value,crabs):\n",
    "    fuel = np.abs(value - crabs)\n",
    "    return(sum([fuelcost(x) for x in fuel]))\n",
    "    \n",
    "find_best_crab_position(crabs,exponential_fuel)"
   ]
  },
  {
   "cell_type": "markdown",
   "metadata": {},
   "source": [
    "## Day 2"
   ]
  },
  {
   "cell_type": "markdown",
   "metadata": {},
   "source": [
    "#### Puzzle 1"
   ]
  },
  {
   "cell_type": "code",
   "execution_count": 15,
   "metadata": {},
   "outputs": [
    {
     "name": "stdout",
     "output_type": "stream",
     "text": [
      "530\n"
     ]
    }
   ],
   "source": [
    "with open('./data/day_8/input.txt') as f:\n",
    "    data = np.array(f.read().splitlines())\n",
    "\n",
    "signals = []\n",
    "outputs = []\n",
    "for i in range(len(data)):\n",
    "    outputs.append(data[i].split(\" | \")[1].split(\" \"))\n",
    "    signals.append(data[i].split(\" | \")[0].split(\" \"))\n",
    "    \n",
    "count = 0\n",
    "for output in outputs:\n",
    "    for digit in output:\n",
    "        if (len(digit) in [2,4,7,3]):\n",
    "            count+=1\n",
    "print(count)"
   ]
  },
  {
   "cell_type": "markdown",
   "metadata": {},
   "source": [
    "#### Puzzle 2"
   ]
  },
  {
   "cell_type": "code",
   "execution_count": 17,
   "metadata": {},
   "outputs": [
    {
     "data": {
      "text/plain": [
       "1051087"
      ]
     },
     "execution_count": 17,
     "metadata": {},
     "output_type": "execute_result"
    }
   ],
   "source": [
    "decoded_ouputs = []\n",
    "\n",
    "def search_signals(signal,condition):\n",
    "    return ''.join(sorted([digit for digit in signal if condition(digit)][0]))\n",
    "\n",
    "def find_common_len(word1,word2):\n",
    "    return(len(''.join(set(word1).intersection(word2))))\n",
    "\n",
    "for signal,output in zip(signals,outputs):\n",
    "    one = search_signals(signal, lambda n: len(n) == 2)\n",
    "    four = search_signals(signal, lambda n: len(n) == 4)\n",
    "    eight = search_signals(signal, lambda n: len(n) == 7)\n",
    "    seven = search_signals(signal, lambda n: len(n) == 3)\n",
    "    three = search_signals(signal, lambda n: len(n) == 5 and find_common_len(n,one)==2)\n",
    "    six = search_signals(signal, lambda n: len(n) == 6 and find_common_len(n,seven)==2)\n",
    "    two = search_signals(signal, lambda n: len(n) == 5 and find_common_len(n,four)==2)\n",
    "    five = search_signals(signal, lambda n: len(n) == 5 and find_common_len(n,six)==5)\n",
    "    nine = search_signals(signal, lambda n: len(n) == 6 and find_common_len(n,four)==4)\n",
    "    zero = search_signals(signal, lambda n: len(n) == 6 and \n",
    "                          find_common_len(n,four)==3 \n",
    "                          and find_common_len(n,seven)==3)\n",
    "\n",
    "    digits_map = {one:1, two:2,three:3,four:4,five:5,six:6,seven:7,eight:8,nine:9,zero:0}\n",
    "\n",
    "    final=\"\"\n",
    "    for digit in output:\n",
    "        final += str(digits_map[''.join(sorted(digit))])\n",
    "    decoded_ouputs.append(int(final))\n",
    "\n",
    "sum(decoded_ouputs)"
   ]
  }
 ],
 "metadata": {
  "kernelspec": {
   "display_name": "Python 3",
   "language": "python",
   "name": "python3"
  },
  "language_info": {
   "codemirror_mode": {
    "name": "ipython",
    "version": 3
   },
   "file_extension": ".py",
   "mimetype": "text/x-python",
   "name": "python",
   "nbconvert_exporter": "python",
   "pygments_lexer": "ipython3",
   "version": "3.8.3"
  }
 },
 "nbformat": 4,
 "nbformat_minor": 2
}
