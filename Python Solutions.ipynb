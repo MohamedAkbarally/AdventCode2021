{
 "cells": [
  {
   "cell_type": "markdown",
   "metadata": {},
   "source": [
    "Helper functions"
   ]
  },
  {
   "cell_type": "code",
   "execution_count": 3,
   "metadata": {},
   "outputs": [],
   "source": [
    "def list_to_int(str_list):\n",
    "    return [int(x) for x in str_list]\n",
    "\n",
    "def read_input(path):\n",
    "    with open(path) as f:\n",
    "        return(f.read().split(\"\\n\")[:-1])"
   ]
  },
  {
   "cell_type": "markdown",
   "metadata": {},
   "source": [
    "## Day 1"
   ]
  },
  {
   "cell_type": "markdown",
   "metadata": {},
   "source": [
    "#### Puzzle 1"
   ]
  },
  {
   "cell_type": "code",
   "execution_count": 8,
   "metadata": {},
   "outputs": [
    {
     "data": {
      "text/plain": [
       "1448"
      ]
     },
     "execution_count": 8,
     "metadata": {},
     "output_type": "execute_result"
    }
   ],
   "source": [
    "input_day_1 = list_to_int(read_input('./data/day_1/input.txt'))\n",
    "\n",
    "def find_times_increasing(data):\n",
    "    return sum([pair[0]-pair[1]>0 for pair in zip(data[1:],data[:-1])])\n",
    "\n",
    "find_increasing(input_day_1)"
   ]
  },
  {
   "cell_type": "markdown",
   "metadata": {},
   "source": [
    "#### Puzzle 2"
   ]
  },
  {
   "cell_type": "code",
   "execution_count": 58,
   "metadata": {},
   "outputs": [
    {
     "data": {
      "text/plain": [
       "1471"
      ]
     },
     "execution_count": 58,
     "metadata": {},
     "output_type": "execute_result"
    }
   ],
   "source": [
    "def find_times_window_increasing(data):\n",
    "    window_list = list(zip(input_day_1[:-2],input_day_1[1:-1],input_day_1[2:]))\n",
    "    return find_increasing([sum(window) for window in window_list])\n",
    "\n",
    "find_window_increasing(input_day_1)"
   ]
  },
  {
   "cell_type": "markdown",
   "metadata": {},
   "source": [
    "## Day 2"
   ]
  },
  {
   "cell_type": "markdown",
   "metadata": {},
   "source": [
    "#### Puzzle 1"
   ]
  },
  {
   "cell_type": "code",
   "execution_count": 19,
   "metadata": {},
   "outputs": [
    {
     "data": {
      "text/plain": [
       "2102357"
      ]
     },
     "execution_count": 19,
     "metadata": {},
     "output_type": "execute_result"
    }
   ],
   "source": [
    "input_day_2 = read_input('./data/day_2/input.txt')\n",
    "⌈\n",
    "def directionTotal(direction,data):\n",
    "    return sum([int(x[-1]) for x in data if x.startswith(direction)])\n",
    "\n",
    "directionTotal(\"forward\",input_day_2) * (directionTotal(\"down\",input_day_2) - directionTotal(\"up\",input_day_2))"
   ]
  },
  {
   "cell_type": "markdown",
   "metadata": {},
   "source": [
    "#### Puzzle 2"
   ]
  },
  {
   "cell_type": "code",
   "execution_count": 57,
   "metadata": {},
   "outputs": [
    {
     "data": {
      "text/plain": [
       "2101031224"
      ]
     },
     "execution_count": 57,
     "metadata": {},
     "output_type": "execute_result"
    }
   ],
   "source": [
    "enumerated_forwards = [(idx,x) for idx,x in list(enumerate(input_day_2)) if x.startswith(\"forward\")]\n",
    "\n",
    "def get_direction_value(direction):\n",
    "    return int(direction[-1])\n",
    "\n",
    "def enumarate_list(data):\n",
    "    return list(enumerate(data))\n",
    "\n",
    "def isForward(direction_t):\n",
    "    return direction_t[1].startswith(\"forward\")\n",
    "\n",
    "enumerated_forwards = list(filter(isForward,enumarate_list(input_day_2)))\n",
    "\n",
    "def change_in_depth(data,idx,direction):\n",
    "     return get_direction_value(direction) * (directionTotal(\"down\",data[:idx]) - directionTotal(\"up\",data[:idx]))\n",
    "    \n",
    "depth = sum([change_in_depth(input_day_2,idx,x) for idx,x in enumerated_forwards])\n",
    "horizontal_position = directionTotal(\"forward\",input_day_2)\n",
    "\n",
    "horizontal_position*depth"
   ]
  },
  {
   "cell_type": "markdown",
   "metadata": {},
   "source": [
    "## Day 3"
   ]
  },
  {
   "cell_type": "markdown",
   "metadata": {},
   "source": [
    "#### Puzzle 1"
   ]
  },
  {
   "cell_type": "code",
   "execution_count": 79,
   "metadata": {},
   "outputs": [
    {
     "data": {
      "text/plain": [
       "3148794"
      ]
     },
     "execution_count": 79,
     "metadata": {},
     "output_type": "execute_result"
    }
   ],
   "source": [
    "input_day_3 = read_input('./data/day_3/input.txt')\n",
    "\n",
    "def find_most_freq(digit,data):\n",
    "    return str(int(sum([int(x[digit]) for x in data])/len(data)>=0.5))\n",
    "\n",
    "def bin_to_dec(binary):\n",
    "    return int(binary,2)\n",
    "\n",
    "gamma = \"\"\n",
    "for i in range(len(input_day_3[0])):\n",
    "    gamma += find_most_freq(i,input_day_3)\n",
    "    \n",
    "beta = gamma.replace(\"0\",\"t\").replace(\"1\",\"0\").replace(\"t\",\"1\")\n",
    "    \n",
    "bin_to_dec(gamma)*bin_to_dec(beta)"
   ]
  },
  {
   "cell_type": "markdown",
   "metadata": {},
   "source": [
    "#### Puzzle 2"
   ]
  },
  {
   "cell_type": "code",
   "execution_count": 85,
   "metadata": {},
   "outputs": [
    {
     "data": {
      "text/plain": [
       "2795310"
      ]
     },
     "execution_count": 85,
     "metadata": {},
     "output_type": "execute_result"
    }
   ],
   "source": [
    "oxygen_list = input_day_3\n",
    "CO2_list = input_day_3\n",
    "\n",
    "for i in range(len(input_day_3[0])):\n",
    "    if (len(oxygen_list)>1):\n",
    "        oxygen_list = [x for x in oxygen_list if x[i]==find_most_freq(i,oxygen_list)]\n",
    "    if (len(CO2_list)>1):\n",
    "        CO2_list = [x for x in CO2_list if x[i]!=find_most_freq(i,CO2_list)]\n",
    "        \n",
    "bin_to_dec(oxygen_list[0]) * bin_to_dec(CO2_list[0])"
   ]
  }
 ],
 "metadata": {
  "kernelspec": {
   "display_name": "Python 3",
   "language": "python",
   "name": "python3"
  },
  "language_info": {
   "codemirror_mode": {
    "name": "ipython",
    "version": 3
   },
   "file_extension": ".py",
   "mimetype": "text/x-python",
   "name": "python",
   "nbconvert_exporter": "python",
   "pygments_lexer": "ipython3",
   "version": "3.8.3"
  }
 },
 "nbformat": 4,
 "nbformat_minor": 2
}
