{
 "cells": [
  {
   "cell_type": "code",
   "execution_count": 26,
   "metadata": {},
   "outputs": [],
   "source": [
    "import numpy as np\n",
    "from collections import defaultdict\n",
    "\n",
    "def list_to_int(str_list):\n",
    "    return [int(x) for x in str_list]\n",
    "\n"
   ]
  },
  {
   "cell_type": "code",
   "execution_count": 30,
   "metadata": {},
   "outputs": [],
   "source": []
  },
  {
   "cell_type": "code",
   "execution_count": 5,
   "metadata": {},
   "outputs": [],
   "source": []
  },
  {
   "cell_type": "code",
   "execution_count": 46,
   "metadata": {},
   "outputs": [
    {
     "data": {
      "text/plain": [
       "770"
      ]
     },
     "execution_count": 46,
     "metadata": {},
     "output_type": "execute_result"
    }
   ],
   "source": [
    "with open('./data/day_13/input.txt') as f:\n",
    "    data = f.read().splitlines()\n",
    "\n",
    "coords = data[:-13]\n",
    "instrucitons = data[-12:]\n",
    "instrucitons = [(x.split(\"=\")[0][-1],int(x.split(\"=\")[1]))  for x in instrucitons]\n",
    "\n",
    "x_cords = [int(x.split(\",\")[0]) for x in coords]\n",
    "y_cords = [int(x.split(\",\")[1]) for x in coords]\n",
    "\n",
    "def initialize_grid(x_cords,y_cords):\n",
    "    grid = np.zeros((max(x_cords)+2,max(y_cords)+1))\n",
    "    for i in range(len(x_cords)):\n",
    "        grid[x_cords[i],y_cords[i]] = 1\n",
    "    grid = grid == True\n",
    "    return grid\n",
    "\n",
    "grid = initialize_grid(x_cords,y_cords)\n",
    "\n",
    "def apply_grid_transformation(grid,axis,position):\n",
    "    if axis == 'x':\n",
    "        rhs = grid[position+1:,:]\n",
    "        lhs_flipped = np.flip(grid[0:position,:],axis=0)\n",
    "        grid = np.logical_or(rhs,lhs_flipped)\n",
    "    else:\n",
    "        bottom = grid[:,position+1:]\n",
    "        top_flipped = np.flip(grid[:,0:position],axis=1)\n",
    "        grid = np.logical_or(bottom,top_flipped)\n",
    "    return grid\n",
    "\n",
    "\n",
    "apply_grid_transformation(grid,instrucitons[0][0],instrucitons[0][1]).sum()"
   ]
  },
  {
   "cell_type": "code",
   "execution_count": 47,
   "metadata": {},
   "outputs": [
    {
     "name": "stdout",
     "output_type": "stream",
     "text": [
      "⬛⬛⬛⬛⬜⬛⬛⬛⬜⬜⬛⬜⬜⬛⬜⬛⬛⬛⬛⬜⬛⬜⬜⬜⬜⬛⬛⬛⬜⬜⬛⬛⬛⬜⬜⬛⬛⬛⬜⬜\n",
      "⬛⬜⬜⬜⬜⬛⬜⬜⬛⬜⬛⬜⬜⬛⬜⬛⬜⬜⬜⬜⬛⬜⬜⬜⬜⬛⬜⬜⬛⬜⬛⬜⬜⬛⬜⬛⬜⬜⬛⬜\n",
      "⬛⬛⬛⬜⬜⬛⬜⬜⬛⬜⬛⬜⬜⬛⬜⬛⬛⬛⬜⬜⬛⬜⬜⬜⬜⬛⬜⬜⬛⬜⬛⬛⬛⬜⬜⬛⬜⬜⬛⬜\n",
      "⬛⬜⬜⬜⬜⬛⬛⬛⬜⬜⬛⬜⬜⬛⬜⬛⬜⬜⬜⬜⬛⬜⬜⬜⬜⬛⬛⬛⬜⬜⬛⬜⬜⬛⬜⬛⬛⬛⬜⬜\n",
      "⬛⬜⬜⬜⬜⬛⬜⬜⬜⬜⬛⬜⬜⬛⬜⬛⬜⬜⬜⬜⬛⬜⬜⬜⬜⬛⬜⬜⬜⬜⬛⬜⬜⬛⬜⬛⬜⬛⬜⬜\n",
      "⬛⬛⬛⬛⬜⬛⬜⬜⬜⬜⬜⬛⬛⬜⬜⬛⬛⬛⬛⬜⬛⬛⬛⬛⬜⬛⬜⬜⬜⬜⬛⬛⬛⬜⬜⬛⬜⬜⬛⬜\n"
     ]
    }
   ],
   "source": [
    "for axis,position in instrucitons:\n",
    "    grid = apply_grid_transformation(grid,axis,position)\n",
    "\n",
    "my_dict = {False:\"\\u2B1C\", True: '\\u2B1B'}\n",
    "s = np.vectorize(my_dict.get)(grid)\n",
    "for item in reversed(np.flipud(s).T):\n",
    "    print(\"\".join(item))"
   ]
  },
  {
   "cell_type": "code",
   "execution_count": null,
   "metadata": {},
   "outputs": [],
   "source": []
  }
 ],
 "metadata": {
  "kernelspec": {
   "display_name": "Python 3",
   "language": "python",
   "name": "python3"
  },
  "language_info": {
   "codemirror_mode": {
    "name": "ipython",
    "version": 3
   },
   "file_extension": ".py",
   "mimetype": "text/x-python",
   "name": "python",
   "nbconvert_exporter": "python",
   "pygments_lexer": "ipython3",
   "version": "3.8.3"
  }
 },
 "nbformat": 4,
 "nbformat_minor": 5
}
