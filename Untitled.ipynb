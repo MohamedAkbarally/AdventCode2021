{
 "cells": [
  {
   "cell_type": "code",
   "execution_count": 2,
   "metadata": {},
   "outputs": [],
   "source": [
    "import numpy as np\n",
    "from collections import defaultdict\n",
    "\n",
    "def list_to_int(str_list):\n",
    "    return [int(x) for x in str_list]\n",
    "\n",
    "def def_value():\n",
    "    return 0\n",
    "\n",
    "def read_input(path):\n",
    "    with open(path) as f:\n",
    "        return(f.read().split(\"\\n\")[:-1])"
   ]
  },
  {
   "cell_type": "code",
   "execution_count": 27,
   "metadata": {},
   "outputs": [
    {
     "name": "stdout",
     "output_type": "stream",
     "text": [
      "(0, 1)\n",
      "(0, 2)\n"
     ]
    }
   ],
   "source": [
    "pq.put((0, 2))\n",
    "pq.put((0, 1))\n",
    "print(pq.get())\n",
    "print(pq.get())"
   ]
  },
  {
   "cell_type": "code",
   "execution_count": 128,
   "metadata": {},
   "outputs": [],
   "source": [
    "with open('./data/day_15/input.txt') as f:\n",
    "    data = f.read().splitlines()\n",
    "    \n",
    "grid = np.array([list_to_int(x) for x in data])"
   ]
  },
  {
   "cell_type": "code",
   "execution_count": 124,
   "metadata": {},
   "outputs": [],
   "source": [
    "grid2 = np.concatenate((grid, warpn(grid+1),warpn(grid+2),warpn(grid+3),warpn(grid+4)), axis=1)\n",
    "grid2 = np.concatenate((grid2, warpn(grid2+1),warpn(grid2+2),warpn(grid2+3),warpn(grid2+4)), axis=0)"
   ]
  },
  {
   "cell_type": "code",
   "execution_count": 125,
   "metadata": {},
   "outputs": [],
   "source": [
    "grid = grid2"
   ]
  },
  {
   "cell_type": "code",
   "execution_count": 126,
   "metadata": {},
   "outputs": [
    {
     "name": "stdout",
     "output_type": "stream",
     "text": [
      "6 7 8 9 1\n",
      "7 8 9 1 2\n"
     ]
    }
   ],
   "source": [
    "print(grid[0,0],grid[0,100],grid[0,200],grid[0,300],grid[0,400])\n",
    "print(grid[100,0],grid[100,100],grid[100,200],grid[100,300],grid[100,400])"
   ]
  },
  {
   "cell_type": "code",
   "execution_count": 121,
   "metadata": {},
   "outputs": [],
   "source": [
    "def wrap(num):\n",
    "    if num > 9:\n",
    "        return (num % 10) + 1\n",
    "    else:\n",
    "        return num\n",
    "\n",
    "warpn = np.vectorize(wrap)\n",
    "\n",
    "    \n",
    "warpn = np.vectorize(wrap)\n",
    "    "
   ]
  },
  {
   "cell_type": "code",
   "execution_count": 312,
   "metadata": {},
   "outputs": [
    {
     "ename": "ModuleNotFoundError",
     "evalue": "No module named 'skipdict'",
     "output_type": "error",
     "traceback": [
      "\u001b[1;31m---------------------------------------------------------------------------\u001b[0m",
      "\u001b[1;31mModuleNotFoundError\u001b[0m                       Traceback (most recent call last)",
      "\u001b[1;32m<ipython-input-312-956a52e8ab16>\u001b[0m in \u001b[0;36m<module>\u001b[1;34m\u001b[0m\n\u001b[1;32m----> 1\u001b[1;33m \u001b[1;32mfrom\u001b[0m \u001b[0mskipdict\u001b[0m \u001b[1;32mimport\u001b[0m \u001b[0mSkipDict\u001b[0m\u001b[1;33m\u001b[0m\u001b[1;33m\u001b[0m\u001b[0m\n\u001b[0m",
      "\u001b[1;31mModuleNotFoundError\u001b[0m: No module named 'skipdict'"
     ]
    }
   ],
   "source": [
    "from skipdict import SkipDict\n"
   ]
  },
  {
   "cell_type": "code",
   "execution_count": 348,
   "metadata": {},
   "outputs": [],
   "source": [
    "a = sorted([6, 7, 9, 4, 3, 5, 8, 10, 1])\n"
   ]
  },
  {
   "cell_type": "code",
   "execution_count": 350,
   "metadata": {},
   "outputs": [
    {
     "data": {
      "text/plain": [
       "[1, 3, 4, 5, 5.5, 6, 7, 8, 9, 10, 10]"
      ]
     },
     "execution_count": 350,
     "metadata": {},
     "output_type": "execute_result"
    }
   ],
   "source": [
    "bisect.insort(a,5.5)\n",
    "a"
   ]
  },
  {
   "cell_type": "code",
   "execution_count": 341,
   "metadata": {},
   "outputs": [
    {
     "data": {
      "text/plain": [
       "[1]"
      ]
     },
     "execution_count": 341,
     "metadata": {},
     "output_type": "execute_result"
    }
   ],
   "source": [
    "heapq.nsmallest(1,a)"
   ]
  },
  {
   "cell_type": "code",
   "execution_count": 342,
   "metadata": {},
   "outputs": [],
   "source": [
    "heapq.heappush(a, 4)"
   ]
  },
  {
   "cell_type": "code",
   "execution_count": 343,
   "metadata": {},
   "outputs": [
    {
     "data": {
      "text/plain": [
       "[1]"
      ]
     },
     "execution_count": 343,
     "metadata": {},
     "output_type": "execute_result"
    }
   ],
   "source": [
    "heapq.nsmallest(1,a)"
   ]
  },
  {
   "cell_type": "code",
   "execution_count": 7,
   "metadata": {},
   "outputs": [],
   "source": [
    "weights = np.full((500, 500), np.inf)\n",
    "a_weights = np.full((500, 500), np.inf)"
   ]
  },
  {
   "cell_type": "code",
   "execution_count": null,
   "metadata": {},
   "outputs": [],
   "source": []
  },
  {
   "cell_type": "code",
   "execution_count": 133,
   "metadata": {},
   "outputs": [
    {
     "data": {
      "text/plain": [
       "458"
      ]
     },
     "execution_count": 133,
     "metadata": {},
     "output_type": "execute_result"
    }
   ],
   "source": [
    "from queue import PriorityQueue\n",
    "\n",
    "def get_neighbors(i,j,size):\n",
    "    neighbours = []\n",
    "    if i < size-1:\n",
    "        neighbours.append((i+1,j))\n",
    "    if j < size-1:\n",
    "        neighbours.append((i,j+1))\n",
    "    if i > 0:\n",
    "        neighbours.append((i-1,j))\n",
    "    if j > 0:\n",
    "        neighbours.append((i,j-1))\n",
    "    return neighbours\n",
    "\n",
    "\n",
    "def dijkstra(grid, i,j):\n",
    "    size = len(grid)\n",
    "    cost = np.full((size, size), np.inf)\n",
    "    visited_nodes = np.full((size, size), 0)\n",
    "    \n",
    "    cost[i][j] = 0\n",
    "    pq = PriorityQueue()\n",
    "    pq.put((0,i,j))\n",
    "\n",
    "    while not pq.empty():\n",
    "        dist, i,j = pq.get()\n",
    "        visited_nodes[i][j] = 1\n",
    "        \n",
    "        for n,m in get_neighbors(i,j,size):\n",
    "            distance = grid[n][m]\n",
    "            if visited_nodes[n][m]==0:\n",
    "                old_cost = cost[n][m]\n",
    "                new_cost = cost[i][j] + distance\n",
    "                if new_cost < old_cost:\n",
    "                    pq.put((new_cost,n,m))\n",
    "                    cost[n][m] = new_cost\n",
    "    return int(cost[-1][-1])\n",
    "\n",
    "dijkstra(grid,0,0)"
   ]
  },
  {
   "cell_type": "code",
   "execution_count": 135,
   "metadata": {},
   "outputs": [
    {
     "data": {
      "text/plain": [
       "2800"
      ]
     },
     "execution_count": 135,
     "metadata": {},
     "output_type": "execute_result"
    }
   ],
   "source": [
    "def wrap(num):\n",
    "    if num > 9:\n",
    "        return (num % 10) + 1\n",
    "    else:\n",
    "        return num\n",
    "    \n",
    "wrap_v = np.vectorize(wrap)\n",
    "\n",
    "grid_pt2 = np.concatenate((grid, wrap_v(grid+1),wrap_v(grid+2),wrap_v(grid+3),wrap_v(grid+4)), axis=1)\n",
    "grid_pt2 = np.concatenate((grid_pt2, wrap_v(grid_pt2+1),wrap_v(grid_pt2+2),wrap_v(grid_pt2+3),wrap_v(grid_pt2+4)), axis=0)\n",
    "\n",
    "dijkstra(grid_pt2,0,0)"
   ]
  },
  {
   "cell_type": "code",
   "execution_count": 14,
   "metadata": {},
   "outputs": [
    {
     "ename": "IndexError",
     "evalue": "list index out of range",
     "output_type": "error",
     "traceback": [
      "\u001b[1;31m---------------------------------------------------------------------------\u001b[0m",
      "\u001b[1;31mIndexError\u001b[0m                                Traceback (most recent call last)",
      "\u001b[1;32m<ipython-input-14-a725121a3db6>\u001b[0m in \u001b[0;36m<module>\u001b[1;34m\u001b[0m\n\u001b[0;32m     27\u001b[0m         \u001b[0madd_to_queue\u001b[0m\u001b[1;33m(\u001b[0m\u001b[0mi\u001b[0m\u001b[1;33m,\u001b[0m\u001b[0mj\u001b[0m\u001b[1;33m+\u001b[0m\u001b[1;36m1\u001b[0m\u001b[1;33m,\u001b[0m\u001b[0mw\u001b[0m\u001b[1;33m)\u001b[0m\u001b[1;33m\u001b[0m\u001b[1;33m\u001b[0m\u001b[0m\n\u001b[0;32m     28\u001b[0m     \u001b[1;32mwhile\u001b[0m \u001b[0mnode\u001b[0m \u001b[1;32min\u001b[0m \u001b[0mvisited_nodes\u001b[0m\u001b[1;33m:\u001b[0m\u001b[1;33m\u001b[0m\u001b[1;33m\u001b[0m\u001b[0m\n\u001b[1;32m---> 29\u001b[1;33m         \u001b[0mnode\u001b[0m \u001b[1;33m=\u001b[0m  \u001b[0mqueue\u001b[0m\u001b[1;33m[\u001b[0m\u001b[1;36m0\u001b[0m\u001b[1;33m]\u001b[0m\u001b[1;33m\u001b[0m\u001b[1;33m\u001b[0m\u001b[0m\n\u001b[0m\u001b[0;32m     30\u001b[0m         \u001b[0mqueue\u001b[0m \u001b[1;33m=\u001b[0m \u001b[0mqueue\u001b[0m\u001b[1;33m[\u001b[0m\u001b[1;36m1\u001b[0m\u001b[1;33m:\u001b[0m\u001b[1;33m]\u001b[0m\u001b[1;33m\u001b[0m\u001b[1;33m\u001b[0m\u001b[0m\n\u001b[0;32m     31\u001b[0m     \u001b[0mw\u001b[0m \u001b[1;33m=\u001b[0m \u001b[0mweights\u001b[0m\u001b[1;33m[\u001b[0m\u001b[0mnode\u001b[0m\u001b[1;33m[\u001b[0m\u001b[1;36m0\u001b[0m\u001b[1;33m]\u001b[0m\u001b[1;33m]\u001b[0m\u001b[1;33m[\u001b[0m\u001b[0mnode\u001b[0m\u001b[1;33m[\u001b[0m\u001b[1;36m1\u001b[0m\u001b[1;33m]\u001b[0m\u001b[1;33m]\u001b[0m\u001b[1;33m\u001b[0m\u001b[1;33m\u001b[0m\u001b[0m\n",
      "\u001b[1;31mIndexError\u001b[0m: list index out of range"
     ]
    }
   ],
   "source": [
    "pq = PriorityQueue()\n",
    "pq.put((0, 1))\n",
    "\n",
    "visited_nodes = []\n",
    "\n",
    "def add_to_queue(i,j,w):\n",
    "    s = grid[i][j] + w\n",
    "    d = (99+99-i-j) + s\n",
    "    \n",
    "    if (weights[i][j] > s):\n",
    "        weights[i][j] = s\n",
    "        a_weights[i][j] = d\n",
    "        bisect.insort(queue,(d,(i,j)))\n",
    "    return\n",
    "    \n",
    "        \n",
    "        \n",
    "\n",
    "while node != (99,99):\n",
    "    visited_nodes.append(node)\n",
    "    i,j = node\n",
    "    if i < 99:\n",
    "        add_to_queue(i+1,j,w)\n",
    "    if j < 99:\n",
    "        add_to_queue(i,j+1,w)\n",
    "    while node in visited_nodes:\n",
    "        node =  queue[0]\n",
    "        queue = queue[1:]\n",
    "    w = weights[node[0]][node[1]]\n",
    "    d = a_weights[node[0]][node[1]]\n",
    "\n",
    "print(node,w)"
   ]
  },
  {
   "cell_type": "code",
   "execution_count": 263,
   "metadata": {},
   "outputs": [
    {
     "name": "stdout",
     "output_type": "stream",
     "text": [
      "470\n"
     ]
    }
   ],
   "source": [
    "6247"
   ]
  },
  {
   "cell_type": "code",
   "execution_count": 211,
   "metadata": {},
   "outputs": [
    {
     "name": "stdout",
     "output_type": "stream",
     "text": [
      "499\n",
      "498\n",
      "497\n",
      "496\n",
      "495\n",
      "494\n",
      "493\n",
      "492\n",
      "491\n",
      "490\n",
      "489\n",
      "488\n",
      "487\n",
      "486\n",
      "485\n",
      "484\n",
      "483\n",
      "482\n",
      "481\n",
      "480\n",
      "479\n",
      "478\n",
      "477\n",
      "476\n",
      "475\n",
      "474\n",
      "473\n",
      "472\n",
      "471\n",
      "470\n",
      "469\n",
      "468\n",
      "467\n",
      "466\n",
      "465\n",
      "464\n",
      "463\n",
      "462\n",
      "461\n",
      "460\n",
      "459\n",
      "458\n"
     ]
    }
   ],
   "source": [
    "m = np.full((100, 100), 500)\n",
    "\n",
    "def find_best_path(i, j, t):\n",
    "    s = grid[i][j] + t\n",
    "    \n",
    "    if (s + (i-99) + (j-99)) >  m[i][j]:\n",
    "        return\n",
    "    \n",
    "    if s < m[i][j]:\n",
    "         m[i][j] = s\n",
    "    else:\n",
    "        return\n",
    "    \n",
    "    if i == 99 and j == 99:\n",
    "        print(s)\n",
    "        return\n",
    "    \n",
    "    paths = []\n",
    "    if i < 99:\n",
    "        paths.append(find_best_path(i+1,j,s)\n",
    "    if j < 99:\n",
    "        find_best_path(i,j+1,s)\n",
    "    if i > 0:\n",
    "        find_best_path(i-1,j,s)\n",
    "    if j > 0:\n",
    "        find_best_path(i,j-1,s)\n",
    "    return\n",
    "\n",
    "find_best_path(0,0,-1*grid[0][0])"
   ]
  },
  {
   "cell_type": "code",
   "execution_count": 209,
   "metadata": {},
   "outputs": [
    {
     "data": {
      "text/plain": [
       "array([[500, 500, 500, ..., 500, 500, 500],\n",
       "       [500, 500, 500, ..., 500, 500, 500],\n",
       "       [500, 500, 500, ..., 500, 500, 500],\n",
       "       ...,\n",
       "       [500, 500, 500, ..., 500, 500, 500],\n",
       "       [500, 500, 500, ..., 500, 500, 500],\n",
       "       [500, 500, 500, ..., 500, 500, 500]])"
      ]
     },
     "execution_count": 209,
     "metadata": {},
     "output_type": "execute_result"
    }
   ],
   "source": [
    "m\n"
   ]
  },
  {
   "cell_type": "code",
   "execution_count": 162,
   "metadata": {},
   "outputs": [
    {
     "name": "stdout",
     "output_type": "stream",
     "text": [
      "[(1, 0), (0, 1), (-1, 0), (0, -1)]\n"
     ]
    }
   ],
   "source": [
    "visited = []\n",
    "unvisited = [(0,0)]\n",
    "while len(unvisited) != 0:\n",
    "    i, j = unvisited[0]\n",
    "    unvisited = unvisited[1:]\n",
    "    unvisited.append((i+1,j))\n",
    "    unvisited.append((i,j+1))\n",
    "    unvisited.append((i-1,j))\n",
    "    unvisited.append((i,j-1))\n",
    "    print(unvisited)\n",
    "    break"
   ]
  },
  {
   "cell_type": "code",
   "execution_count": 156,
   "metadata": {},
   "outputs": [
    {
     "data": {
      "text/plain": [
       "470.0"
      ]
     },
     "execution_count": 156,
     "metadata": {},
     "output_type": "execute_result"
    }
   ],
   "source": [
    "m[-1][-1]"
   ]
  },
  {
   "cell_type": "code",
   "execution_count": null,
   "metadata": {},
   "outputs": [],
   "source": [
    "def find_best_path(i, j, t):\n",
    "    if i == 99 and j == 99:\n",
    "        return 0\n",
    "    paths = []\n",
    "    if i < 99:\n",
    "        paths.append(grid[i][j] + find_best_path(i+1,j,t))\n",
    "    if j < 99:\n",
    "        paths.append(grid[i][j] + find_best_path(i,j+1,t))\n",
    " \n",
    "    \n",
    "    return(min(paths))\n",
    "\n",
    "\n",
    "find_best_path(0,0,[])"
   ]
  }
 ],
 "metadata": {
  "kernelspec": {
   "display_name": "Python 3",
   "language": "python",
   "name": "python3"
  },
  "language_info": {
   "codemirror_mode": {
    "name": "ipython",
    "version": 3
   },
   "file_extension": ".py",
   "mimetype": "text/x-python",
   "name": "python",
   "nbconvert_exporter": "python",
   "pygments_lexer": "ipython3",
   "version": "3.8.3"
  }
 },
 "nbformat": 4,
 "nbformat_minor": 4
}
